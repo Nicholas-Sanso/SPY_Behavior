{
 "cells": [
  {
   "cell_type": "code",
   "execution_count": 1,
   "id": "54abf71f-8032-4349-88f8-88cc41983bf2",
   "metadata": {
    "tags": []
   },
   "outputs": [],
   "source": [
    "import pandas as pd\n",
    "import os\n",
    "import matplotlib.pyplot as plt\n",
    "import statsmodels.api as sm\n",
    "import numpy as np\n",
    "\n",
    "from sklearn.ensemble import RandomForestRegressor\n",
    "from sklearn.model_selection import train_test_split\n",
    "from sklearn.metrics import mean_squared_error\n",
    "from statsmodels.stats.outliers_influence import variance_inflation_factor\n",
    "\n"
   ]
  },
  {
   "cell_type": "code",
   "execution_count": 2,
   "id": "0c5dd69d-9fdc-4961-a5ca-71cb5ddcf4c4",
   "metadata": {
    "tags": []
   },
   "outputs": [
    {
     "name": "stdout",
     "output_type": "stream",
     "text": [
      "         Date  Close/Last    Volume    Open    High     Low\n",
      "0  09/12/2024      559.09  51892740  555.01  559.40  552.74\n",
      "1  09/11/2024      554.42  75248610  548.70  555.36  539.96\n",
      "2  09/10/2024      548.79  36394580  548.36  549.15  543.38\n"
     ]
    }
   ],
   "source": [
    "# Define the path to the Downloads folder and the file\n",
    "downloads_folder = os.path.expanduser(\"~/Desktop\")\n",
    "file_name = \"aaHistoricalData_1726248252859.csv\" \n",
    "file_path = os.path.join(downloads_folder, file_name)\n",
    "\n",
    "# Read the CSV file into a DataFrame\n",
    "data = pd.read_csv(file_path)\n",
    "\n",
    "# Display the first few rows of the DataFrame\n",
    "print(data.head(3))\n"
   ]
  },
  {
   "cell_type": "code",
   "execution_count": 3,
   "id": "47f3206d-6e6f-40b7-8bb0-ad5b13a7a84b",
   "metadata": {
    "tags": []
   },
   "outputs": [],
   "source": [
    "# Add new columns with the given calculations\n",
    "data['High_minus_Open'] = (data['High'] - data['Open']) / ((data['Open'] + data['Close/Last']) / 2)\n",
    "data['Open_minus_Low'] = (data['Open'] - data['Low']) / ((data['Open'] + data['Close/Last']) / 2)\n",
    "data['intraday_up_MINUS_intraday_down_ratio'] = data['High_minus_Open'] - data['Open_minus_Low']\n",
    "data['intraday_change'] = (data['Close/Last'] - data['Open']) / ((data['Open'] + data['Close/Last']) / 2)\n",
    "data['day_change'] = (data['Close/Last'] - data['Close/Last'].shift(1)) / data['Close/Last'].shift(1)\n",
    "\n",
    "\n",
    "data['intraday_range'] = (data['High'] - data['Low']) / ((data['Open'] + data['Close/Last']) / 2)\n",
    "data['opening_gaps'] = (data['Open'] - data['Close/Last'].shift(1)) / ((data['Open'] + data['Close/Last']) / 2)\n",
    "data['net_Intraday_Movement_Around_Open'] = ((data['High'] - data['Open']) / ((data['Open'] + data['Close/Last']) / 2)) - ((data['Open'] - data['Low']) / ((data['Open'] + data['Close/Last']) / 2))\n",
    "\n",
    "# Create moving average columns\n",
    "data['MA_5'] = data['Open'].rolling(window=5).mean()\n",
    "data['MA_14'] = data['Open'].rolling(window=14).mean()\n",
    "data['MA_50'] = data['Open'].rolling(window=50).mean()\n",
    "\n",
    "# Create lagged features comparing today's open to these moving averages\n",
    "data['lag_5'] = (data['Open'] > data['MA_5']).astype(int)\n",
    "data['lag_14'] = (data['Open'] > data['MA_14']).astype(int)\n",
    "data['lag_50'] = (data['Open'] > data['MA_50']).astype(int)\n",
    "\n",
    "\n",
    "\n",
    "data['MA_Crossover_Signal_5_14'] = (data['MA_5'] > data['MA_14']).astype(int)\n",
    "\n",
    "# Create a binary indicator for whether yesterday's close was above or below the 5-day MA\n",
    "data['yesterday_close_above_MA_5'] = (data['Close/Last'].shift(1) > data['MA_5']).astype(int)\n",
    "\n"
   ]
  },
  {
   "cell_type": "code",
   "execution_count": 8,
   "id": "47a8a291-1e89-43b3-b351-762fc3cf4e38",
   "metadata": {
    "tags": []
   },
   "outputs": [
    {
     "name": "stdout",
     "output_type": "stream",
     "text": [
      "Index(['Date', 'Close/Last', 'Volume', 'Open', 'High', 'Low',\n",
      "       'High_minus_Open', 'Open_minus_Low',\n",
      "       'intraday_up_MINUS_intraday_down_ratio', 'intraday_change',\n",
      "       'day_change', 'intraday_range', 'opening_gaps',\n",
      "       'net_Intraday_Movement_Around_Open', 'MA_5', 'MA_14', 'MA_50', 'lag_5',\n",
      "       'lag_14', 'lag_50', 'MA_Crossover_Signal_5_14',\n",
      "       'yesterday_close_above_MA_5', 'OBV', 'OBV_pct_change', 'SPY_pct_change',\n",
      "       'OBV_SPY_pct_diff', 'OBV_SPY_metric', 'OBV_SPY_window_length',\n",
      "       'Original_Index'],\n",
      "      dtype='object')\n"
     ]
    }
   ],
   "source": [
    "print(data.columns)"
   ]
  },
  {
   "cell_type": "code",
   "execution_count": 9,
   "id": "99c40306-1614-426c-a2c3-d4ce7e29ee4f",
   "metadata": {
    "tags": []
   },
   "outputs": [
    {
     "name": "stdout",
     "output_type": "stream",
     "text": [
      "         Date  Close/Last    Volume    Open   High     Low  High_minus_Open  \\\n",
      "0  09/12/2024      559.09  51892740  555.01  559.4  552.74         0.007881   \n",
      "\n",
      "   Open_minus_Low  intraday_up_MINUS_intraday_down_ratio  intraday_change  \\\n",
      "0        0.004075                               0.003806         0.007324   \n",
      "\n",
      "   ...  lag_50  MA_Crossover_Signal_5_14  yesterday_close_above_MA_5  \\\n",
      "0  ...       0                         0                           0   \n",
      "\n",
      "        OBV  OBV_pct_change  SPY_pct_change  OBV_SPY_pct_diff  OBV_SPY_metric  \\\n",
      "0  51892740             NaN             NaN               NaN             0.0   \n",
      "\n",
      "   OBV_SPY_window_length  Original_Index  \n",
      "0                    5.0             0.0  \n",
      "\n",
      "[1 rows x 29 columns]\n",
      " Creates the OBV\n"
     ]
    }
   ],
   "source": [
    "data['OBV'] = 0\n",
    "\n",
    "# Initialize the first value of OBV\n",
    "data.loc[0, 'OBV'] = data.loc[0, 'Volume']\n",
    "\n",
    "# Calculate OBV\n",
    "for i in range(1, len(data)):\n",
    "    if data.loc[i, 'Close/Last'] > data.loc[i-1, 'Close/Last']:\n",
    "        data.loc[i, 'OBV'] = data.loc[i-1, 'OBV'] + data.loc[i, 'Volume']\n",
    "    elif data.loc[i, 'Close/Last'] < data.loc[i-1, 'Close/Last']:\n",
    "        data.loc[i, 'OBV'] = data.loc[i-1, 'OBV'] - data.loc[i, 'Volume']\n",
    "    else:\n",
    "        data.loc[i, 'OBV'] = data.loc[i-1, 'OBV']\n",
    "\n",
    "# Display the first few rows to check the new column\n",
    "print(data.head(1))\n",
    "print(''' Creates the OBV''')"
   ]
  },
  {
   "cell_type": "code",
   "execution_count": 5,
   "id": "882bb467-7f2c-45de-a9b5-46c1632d6cee",
   "metadata": {
    "tags": []
   },
   "outputs": [
    {
     "name": "stdout",
     "output_type": "stream",
     "text": [
      "   Original_Index        Date  OBV_pct_change  SPY_pct_change  \\\n",
      "0             0.0  09/12/2024             NaN             NaN   \n",
      "1             1.0  09/11/2024     -145.007972       -0.835286   \n",
      "\n",
      "   OBV_SPY_pct_diff  OBV_SPY_metric  OBV_SPY_window_length  \n",
      "0               NaN             0.0                    5.0  \n",
      "1       -144.172686             0.0                    5.0  \n",
      "OBV_SPY_metric is the cumulative percentage change between the OBV and SPY since it last had a 15% retracement, OBV_SPY_window_length is the length of the window\n",
      "    in days, and Index is the original index.\n",
      "It will record the INDEX to make sure that future data maniupulations don't force us to lose the order\n",
      "\n"
     ]
    }
   ],
   "source": [
    "# \"OBV_PCT_CHANGE IS ON A DIFFERENT SCALE AS THE \"SPY_PCT_CHANGE\"  BECAUSE OBV IS A CUMULATIVE FIGURE AND THE SPY_PCT_CHANGE IS NOT. MAKING THE WHOLE THING...\n",
    "# ...NONSENSICAL... THE PERCENTAGE CHANGES OF THE OBV WILL BECOME MINISCULE AS EACH DAY'S VOLUME BECOMES INSUBSTANTIAL WHEN THE OBV SNOWBALLS TO A \n",
    "# HIGH VALUE OR LOW VALUE\n",
    "# Use z-value of the spy change or the volume change\n",
    "# OR use an obv rolling average and take the aveage as apercentage of that \n",
    "\n",
    "data['OBV_pct_change'] = data['OBV'].pct_change() * 100\n",
    "data['SPY_pct_change'] = data['day_change'] * 100\n",
    "data['OBV_SPY_pct_diff'] = data['OBV_pct_change'] - data['SPY_pct_change']\n",
    "\n",
    "def calculate_obv_spy_metric_backward(data, initial_window_size=5, threshold=15):\n",
    "    data['OBV_SPY_metric'] = np.nan  # Initialize the new independent variable column\n",
    "    data['OBV_SPY_window_length'] = np.nan  # Initialize column for window length\n",
    "    data['Original_Index'] = np.nan  # Initialize column for index\n",
    "    \n",
    "    for i in range(len(data) - initial_window_size):\n",
    "        max_diff = 0\n",
    "        j = initial_window_size\n",
    "        \n",
    "        while i - j >= 0:\n",
    "            # Calculate rolling sum of differences (backward-looking)\n",
    "            current_window = data['OBV_SPY_pct_diff'].iloc[i-j:i].sum()\n",
    "            abs_current_diff = abs(current_window)\n",
    "            \n",
    "            if abs_current_diff > max_diff:\n",
    "                max_diff = abs(current_window)\n",
    "            \n",
    "            retracement = ((max_diff - abs_current_diff) / max_diff) * 100 if max_diff != 0 else 0\n",
    "            \n",
    "            if retracement >= threshold:\n",
    "                break\n",
    "            \n",
    "            j += 1\n",
    "        \n",
    "        # After the loop, assign the max difference and window length\n",
    "        data.at[i, 'OBV_SPY_metric'] = max_diff\n",
    "        data.at[i, 'OBV_SPY_window_length'] = j\n",
    "        data.at[i, 'Original_Index'] = i  # Assign the index value\n",
    "    \n",
    "    return data\n",
    "\n",
    "# Apply the function to the DataFrame\n",
    "data = calculate_obv_spy_metric_backward(data)\n",
    "\n",
    "# Drop rows with NaN values in OBV_SPY_metric\n",
    "data.dropna(subset=['OBV_SPY_metric'], inplace=True)\n",
    "\n",
    "print(data[['Original_Index', 'Date', 'OBV_pct_change', 'SPY_pct_change', 'OBV_SPY_pct_diff', 'OBV_SPY_metric', 'OBV_SPY_window_length']].head(2))\n",
    "print('''OBV_SPY_metric is the cumulative percentage change between the OBV and SPY since it last had a 15% retracement, OBV_SPY_window_length is the length of the window\n",
    "    in days, and Index is the original index.''')\n",
    "print(\" as it's currently coded it will stop when teh threshold is met... not somethign that can be graphed\")\n"
   ]
  },
  {
   "cell_type": "code",
   "execution_count": 6,
   "id": "d7bad319-07c8-4304-a41c-3e80a54663ca",
   "metadata": {
    "tags": []
   },
   "outputs": [
    {
     "name": "stdout",
     "output_type": "stream",
     "text": [
      "Initial filtered set has 45 rows.\n",
      "After sorting, the DataFrame has 45 rows.\n",
      "After dropping NaNs, the DataFrame has 44 rows.\n",
      "Row count after creating New_OBV_Trend: 44\n",
      "     Original_Index        Date  OBV_pct_change  SPY_pct_change  \\\n",
      "219           219.0  10/27/2023        3.362385       -1.181453   \n",
      "220           220.0  10/26/2023       -3.488999        0.455342   \n",
      "\n",
      "     OBV_SPY_pct_diff  OBV_SPY_metric  OBV_SPY_window_length  Percent_Change  \\\n",
      "219          4.543838       50.267462                   25.0        0.458716   \n",
      "220         -3.944342       54.811300                   27.0        0.456621   \n",
      "\n",
      "     New_OBV_Trend  \n",
      "219              1  \n",
      "220              0  \n",
      "Maximum value in the 'New_OBV_Trend' column: 1\n"
     ]
    }
   ],
   "source": [
    "# Filter the DataFrame for 'OBV_SPY_window_length' values over 20\n",
    "filtered_data = data[data['OBV_SPY_window_length'] > 20]\n",
    "\n",
    "# Verify filtered data row count\n",
    "print(f\"Initial filtered set has {filtered_data.shape[0]} rows.\")  # Expect 45 rows\n",
    "\n",
    "# Sort the filtered DataFrame by the 'Original_Index' column\n",
    "sorted_filtered_data = filtered_data.sort_values(by='Original_Index')\n",
    "\n",
    "# Verify sorted row count\n",
    "print(f\"After sorting, the DataFrame has {sorted_filtered_data.shape[0]} rows.\")  # Expect 45 rows\n",
    "\n",
    "# Calculate the percentage change between successive 'Original_Index' values\n",
    "sorted_filtered_data['Percent_Change'] = sorted_filtered_data['Original_Index'].pct_change() * 100\n",
    "\n",
    "# Drop NaNs resulting from pct_change calculation\n",
    "sorted_filtered_data.dropna(subset=['Percent_Change'], inplace=True)\n",
    "\n",
    "# Verify row count after dropping NaNs\n",
    "print(f\"After dropping NaNs, the DataFrame has {sorted_filtered_data.shape[0]} rows.\")  # Should print 44\n",
    "\n",
    "# Initialize a column to mark new OBV signals using .shift()\n",
    "sorted_filtered_data['New_OBV_Trend'] = (abs(sorted_filtered_data['Percent_Change']) > 2).astype(int)\n",
    "\n",
    "# Ensure the first value is 1\n",
    "sorted_filtered_data.at[sorted_filtered_data.index[0], 'New_OBV_Trend'] = 1\n",
    "\n",
    "# Debugging Output After creating New_OBV_Trend\n",
    "print(f\"Row count after creating New_OBV_Trend: {sorted_filtered_data.shape[0]}\")  # Should remain consistent at 44\n",
    "\n",
    "# Display the sorted filtered DataFrame and the count\n",
    "print(sorted_filtered_data[['Original_Index', 'Date', 'OBV_pct_change', 'SPY_pct_change', 'OBV_SPY_pct_diff', 'OBV_SPY_metric', 'OBV_SPY_window_length', \n",
    "                            'Percent_Change', 'New_OBV_Trend']].head(2))\n",
    "\n",
    "# Find the maximum value in the 'New_OBV_Trend' column\n",
    "max_new_obv_trend = sorted_filtered_data['New_OBV_Trend'].max()\n",
    "print(f\"Maximum value in the 'New_OBV_Trend' column: {max_new_obv_trend}\")\n"
   ]
  },
  {
   "cell_type": "code",
   "execution_count": 7,
   "id": "1aa521e5-c264-415d-b8b5-154141b85b6a",
   "metadata": {
    "tags": []
   },
   "outputs": [
    {
     "name": "stdout",
     "output_type": "stream",
     "text": [
      "     Original_Index        Date  OBV_pct_change  SPY_pct_change  \\\n",
      "219           219.0  10/27/2023        3.362385       -1.181453   \n",
      "733           733.0  10/12/2021        3.456831       -0.358472   \n",
      "\n",
      "     OBV_SPY_pct_diff  OBV_SPY_metric  OBV_SPY_window_length  Percent_Change  \\\n",
      "219          4.543838       50.267462                   25.0        0.458716   \n",
      "733          3.815303       78.963190                   34.0      230.180180   \n",
      "\n",
      "     New_OBV_Trend  \n",
      "219              1  \n",
      "733              1  \n"
     ]
    }
   ],
   "source": [
    "# Filter rows with a value of \"1\" in the New_OBV_Trend column\n",
    "obv_signals = sorted_filtered_data[sorted_filtered_data['New_OBV_Trend'] == 1]\n",
    "\n",
    "# Display the filtered rows with their corresponding original index values\n",
    "print(obv_signals[['Original_Index', 'Date', 'OBV_pct_change', 'SPY_pct_change', 'OBV_SPY_pct_diff', 'OBV_SPY_metric',\n",
    "                   'OBV_SPY_window_length', 'Percent_Change', 'New_OBV_Trend']].head(2))\n"
   ]
  },
  {
   "cell_type": "code",
   "execution_count": null,
   "id": "392ace3b-cd9d-456c-a354-54c1900369c9",
   "metadata": {},
   "outputs": [],
   "source": []
  }
 ],
 "metadata": {
  "kernelspec": {
   "display_name": "Python 3 (ipykernel)",
   "language": "python",
   "name": "python3"
  },
  "language_info": {
   "codemirror_mode": {
    "name": "ipython",
    "version": 3
   },
   "file_extension": ".py",
   "mimetype": "text/x-python",
   "name": "python",
   "nbconvert_exporter": "python",
   "pygments_lexer": "ipython3",
   "version": "3.8.16"
  }
 },
 "nbformat": 4,
 "nbformat_minor": 5
}
