{
 "cells": [
  {
   "cell_type": "code",
   "execution_count": 1,
   "id": "54abf71f-8032-4349-88f8-88cc41983bf2",
   "metadata": {
    "tags": []
   },
   "outputs": [],
   "source": [
    "import pandas as pd\n",
    "import os\n",
    "import matplotlib.pyplot as plt\n",
    "import statsmodels.api as sm\n",
    "import numpy as np\n",
    "\n",
    "from sklearn.ensemble import RandomForestRegressor\n",
    "from sklearn.model_selection import train_test_split\n",
    "from sklearn.metrics import mean_squared_error\n",
    "from statsmodels.stats.outliers_influence import variance_inflation_factor\n",
    "\n"
   ]
  },
  {
   "cell_type": "code",
   "execution_count": 2,
   "id": "0c5dd69d-9fdc-4961-a5ca-71cb5ddcf4c4",
   "metadata": {
    "tags": []
   },
   "outputs": [
    {
     "name": "stdout",
     "output_type": "stream",
     "text": [
      "         Date  Close/Last    Volume    Open    High     Low\n",
      "0  09/12/2024      559.09  51892740  555.01  559.40  552.74\n",
      "1  09/11/2024      554.42  75248610  548.70  555.36  539.96\n",
      "2  09/10/2024      548.79  36394580  548.36  549.15  543.38\n"
     ]
    }
   ],
   "source": [
    "# Define the path to the Downloads folder and the file\n",
    "downloads_folder = os.path.expanduser(\"~/Desktop\")\n",
    "file_name = \"aaHistoricalData_1726248252859.csv\" \n",
    "file_path = os.path.join(downloads_folder, file_name)\n",
    "\n",
    "# Read the CSV file into a DataFrame\n",
    "data = pd.read_csv(file_path)\n",
    "\n",
    "# Display the first few rows of the DataFrame\n",
    "print(data.head(3))\n"
   ]
  },
  {
   "cell_type": "code",
   "execution_count": 3,
   "id": "47f3206d-6e6f-40b7-8bb0-ad5b13a7a84b",
   "metadata": {
    "tags": []
   },
   "outputs": [],
   "source": [
    "# Add new columns with the given calculations\n",
    "data['High_minus_Open'] = (data['High'] - data['Open']) / ((data['Open'] + data['Close/Last']) / 2)\n",
    "data['Open_minus_Low'] = (data['Open'] - data['Low']) / ((data['Open'] + data['Close/Last']) / 2)\n",
    "data['intraday_up_MINUS_intraday_down_ratio'] = data['High_minus_Open'] - data['Open_minus_Low']\n",
    "data['intraday_change'] = (data['Close/Last'] - data['Open']) / ((data['Open'] + data['Close/Last']) / 2)\n",
    "data['day_change'] = (data['Close/Last'] - data['Close/Last'].shift(1)) / data['Close/Last'].shift(1)\n",
    "\n",
    "\n",
    "data['intraday_range'] = (data['High'] - data['Low']) / ((data['Open'] + data['Close/Last']) / 2)\n",
    "data['opening_gaps'] = (data['Open'] - data['Close/Last'].shift(1)) / ((data['Open'] + data['Close/Last']) / 2)\n",
    "data['net_Intraday_Movement_Around_Open'] = ((data['High'] - data['Open']) / ((data['Open'] + data['Close/Last']) / 2)) - ((data['Open'] - data['Low']) / ((data['Open'] + data['Close/Last']) / 2))\n",
    "\n",
    "# Create moving average columns\n",
    "data['MA_5'] = data['Open'].rolling(window=5).mean()\n",
    "data['MA_14'] = data['Open'].rolling(window=14).mean()\n",
    "data['MA_50'] = data['Open'].rolling(window=50).mean()\n",
    "\n",
    "# Create lagged features comparing today's open to these moving averages\n",
    "data['lag_5'] = (data['Open'] > data['MA_5']).astype(int)\n",
    "data['lag_14'] = (data['Open'] > data['MA_14']).astype(int)\n",
    "data['lag_50'] = (data['Open'] > data['MA_50']).astype(int)\n",
    "\n",
    "\n",
    "\n",
    "data['MA_Crossover_Signal_5_14'] = (data['MA_5'] > data['MA_14']).astype(int)\n",
    "\n",
    "# Create a binary indicator for whether yesterday's close was above or below the 5-day MA\n",
    "data['yesterday_close_above_MA_5'] = (data['Close/Last'].shift(1) > data['MA_5']).astype(int)\n",
    "\n"
   ]
  },
  {
   "cell_type": "code",
   "execution_count": 4,
   "id": "47a8a291-1e89-43b3-b351-762fc3cf4e38",
   "metadata": {
    "tags": []
   },
   "outputs": [
    {
     "name": "stdout",
     "output_type": "stream",
     "text": [
      "Index(['Date', 'Close/Last', 'Volume', 'Open', 'High', 'Low',\n",
      "       'High_minus_Open', 'Open_minus_Low',\n",
      "       'intraday_up_MINUS_intraday_down_ratio', 'intraday_change',\n",
      "       'day_change', 'intraday_range', 'opening_gaps',\n",
      "       'net_Intraday_Movement_Around_Open', 'MA_5', 'MA_14', 'MA_50', 'lag_5',\n",
      "       'lag_14', 'lag_50', 'MA_Crossover_Signal_5_14',\n",
      "       'yesterday_close_above_MA_5'],\n",
      "      dtype='object')\n"
     ]
    }
   ],
   "source": [
    "print(data.columns)"
   ]
  },
  {
   "cell_type": "code",
   "execution_count": 5,
   "id": "99c40306-1614-426c-a2c3-d4ce7e29ee4f",
   "metadata": {
    "tags": []
   },
   "outputs": [
    {
     "name": "stdout",
     "output_type": "stream",
     "text": [
      "         Date  Close/Last    Volume    Open   High     Low  High_minus_Open  \\\n",
      "0  09/12/2024      559.09  51892740  555.01  559.4  552.74         0.007881   \n",
      "\n",
      "   Open_minus_Low  intraday_up_MINUS_intraday_down_ratio  intraday_change  \\\n",
      "0        0.004075                               0.003806         0.007324   \n",
      "\n",
      "   ...  net_Intraday_Movement_Around_Open  MA_5  MA_14  MA_50  lag_5  lag_14  \\\n",
      "0  ...                           0.003806   NaN    NaN    NaN      0       0   \n",
      "\n",
      "   lag_50  MA_Crossover_Signal_5_14  yesterday_close_above_MA_5       OBV  \n",
      "0       0                         0                           0  51892740  \n",
      "\n",
      "[1 rows x 23 columns]\n",
      " Creates the OBV\n"
     ]
    }
   ],
   "source": [
    "data['OBV'] = 0\n",
    "\n",
    "# Initialize the first value of OBV\n",
    "data.loc[0, 'OBV'] = data.loc[0, 'Volume']\n",
    "\n",
    "# Calculate OBV\n",
    "for i in range(1, len(data)):\n",
    "    if data.loc[i, 'Close/Last'] > data.loc[i-1, 'Close/Last']:\n",
    "        data.loc[i, 'OBV'] = data.loc[i-1, 'OBV'] + data.loc[i, 'Volume']\n",
    "    elif data.loc[i, 'Close/Last'] < data.loc[i-1, 'Close/Last']:\n",
    "        data.loc[i, 'OBV'] = data.loc[i-1, 'OBV'] - data.loc[i, 'Volume']\n",
    "    else:\n",
    "        data.loc[i, 'OBV'] = data.loc[i-1, 'OBV']\n",
    "\n",
    "# Display the first few rows to check the new column\n",
    "print(data.head(1))\n",
    "print(''' Creates the OBV''')"
   ]
  },
  {
   "cell_type": "code",
   "execution_count": 6,
   "id": "882bb467-7f2c-45de-a9b5-46c1632d6cee",
   "metadata": {
    "tags": []
   },
   "outputs": [
    {
     "name": "stdout",
     "output_type": "stream",
     "text": [
      "   Original_Index        Date  OBV_pct_change  SPY_pct_change  \\\n",
      "0             0.0  09/12/2024             NaN             NaN   \n",
      "1             1.0  09/11/2024     -145.007972       -0.835286   \n",
      "\n",
      "   OBV_SPY_pct_diff  OBV_SPY_metric  OBV_SPY_window_length  \n",
      "0               NaN             0.0                    5.0  \n",
      "1       -144.172686             0.0                    5.0  \n",
      "OBV_SPY_metric is the cumulative percentage change between the OBV and SPY since it last had a 15% retracement, OBV_SPY_window_length is the length of the window\n",
      "    in days, and Index is the original index.\n",
      " as it's currently coded it will stop when teh threshold is met... not somethign that can be graphed\n"
     ]
    }
   ],
   "source": [
    "# \"OBV_PCT_CHANGE IS ON A DIFFERENT SCALE AS THE \"SPY_PCT_CHANGE\"  BECAUSE OBV IS A CUMULATIVE FIGURE AND THE SPY_PCT_CHANGE IS NOT. MAKING THE WHOLE THING...\n",
    "# ...NONSENSICAL... THE PERCENTAGE CHANGES OF THE OBV WILL BECOME MINISCULE AS EACH DAY'S VOLUME BECOMES INSUBSTANTIAL WHEN THE OBV SNOWBALLS TO A \n",
    "# HIGH VALUE OR LOW VALUE\n",
    "# Use z-value of the spy change or the volume change\n",
    "# OR use an obv rolling average and take the aveage as apercentage of that \n",
    "\n",
    "data['OBV_pct_change'] = data['OBV'].pct_change() * 100\n",
    "data['SPY_pct_change'] = data['day_change'] * 100\n",
    "data['OBV_SPY_pct_diff'] = data['OBV_pct_change'] - data['SPY_pct_change']\n",
    "\n",
    "def calculate_obv_spy_metric_backward(data, initial_window_size=5, threshold=15):\n",
    "    data['OBV_SPY_metric'] = np.nan  # Initialize the new independent variable column\n",
    "    data['OBV_SPY_window_length'] = np.nan  # Initialize column for window length\n",
    "    data['Original_Index'] = np.nan  # Initialize column for index\n",
    "    \n",
    "    for i in range(len(data) - initial_window_size):\n",
    "        max_diff = 0\n",
    "        j = initial_window_size\n",
    "        \n",
    "        while i - j >= 0:\n",
    "            # Calculate rolling sum of differences (backward-looking)\n",
    "            current_window = data['OBV_SPY_pct_diff'].iloc[i-j:i].sum()\n",
    "            abs_current_diff = abs(current_window)\n",
    "            \n",
    "            if abs_current_diff > max_diff:\n",
    "                max_diff = abs(current_window)\n",
    "            \n",
    "            retracement = ((max_diff - abs_current_diff) / max_diff) * 100 if max_diff != 0 else 0\n",
    "            \n",
    "            if retracement >= threshold:\n",
    "                break\n",
    "            \n",
    "            j += 1\n",
    "        \n",
    "        # After the loop, assign the max difference and window length\n",
    "        data.at[i, 'OBV_SPY_metric'] = max_diff\n",
    "        data.at[i, 'OBV_SPY_window_length'] = j\n",
    "        data.at[i, 'Original_Index'] = i  # Assign the index value\n",
    "    \n",
    "    return data\n",
    "\n",
    "# Apply the function to the DataFrame\n",
    "data = calculate_obv_spy_metric_backward(data)\n",
    "\n",
    "# Drop rows with NaN values in OBV_SPY_metric\n",
    "data.dropna(subset=['OBV_SPY_metric'], inplace=True)\n",
    "\n",
    "print(data[['Original_Index', 'Date', 'OBV_pct_change', 'SPY_pct_change', 'OBV_SPY_pct_diff', 'OBV_SPY_metric', 'OBV_SPY_window_length']].head(2))\n",
    "print('''OBV_SPY_metric is the cumulative percentage change between the OBV and SPY since it last had a 15% retracement, OBV_SPY_window_length is the length of the window\n",
    "    in days, and Index is the original index.''')\n",
    "print(\" as it's currently coded it will stop when teh threshold is met... not somethign that can be graphed\")\n"
   ]
  },
  {
   "cell_type": "code",
   "execution_count": 7,
   "id": "39f20038-5159-416a-a5d4-9809c50729f7",
   "metadata": {
    "tags": []
   },
   "outputs": [],
   "source": [
    "def calculate_adjusted_obv_metric(data, initial_window_size=5, threshold=15, volume_window=20):\n",
    "    # Calculate daily OBV deltas (volume × price sign)\n",
    "    data['OBV_delta'] = np.where(data['day_change'] > 0, data['Volume'],\n",
    "                          np.where(data['day_change'] < 0, -data['Volume'], 0))\n",
    "\n",
    "    # Rolling average volume (centered or trailing)\n",
    "    data['Rolling_Avg_Vol'] = data['Volume'].rolling(window=volume_window, min_periods=1).mean()\n",
    "\n",
    "    # OBV move factor: delta OBV / rolling avg volume\n",
    "    data['OBV_move_factor'] = data['OBV_delta'] / data['Rolling_Avg_Vol']\n",
    "\n",
    "    # SPY percent change\n",
    "    data['SPY_pct_change'] = data['day_change'] * 100\n",
    "\n",
    "    # Difference between OBV move factor and SPY % change\n",
    "    data['OBV_SPY_diff'] = data['OBV_move_factor'] - data['SPY_pct_change']\n",
    "\n",
    "    # Initialize result columns\n",
    "    data['OBV_SPY_metric'] = np.nan\n",
    "    data['OBV_SPY_window_length'] = np.nan\n",
    "    data['Original_Index'] = np.nan\n",
    "\n",
    "    # Main loop\n",
    "    for i in range(len(data) - initial_window_size):\n",
    "        max_diff = 0\n",
    "        j = initial_window_size\n",
    "\n",
    "        while i - j >= 0:\n",
    "            current_window = data['OBV_SPY_diff'].iloc[i-j:i].sum()\n",
    "            abs_current_diff = abs(current_window)\n",
    "\n",
    "            if abs_current_diff > max_diff:\n",
    "                max_diff = abs_current_diff\n",
    "\n",
    "            retracement = ((max_diff - abs_current_diff) / max_diff) * 100 if max_diff != 0 else 0\n",
    "\n",
    "            if retracement >= threshold:\n",
    "                break\n",
    "\n",
    "            j += 1\n",
    "\n",
    "        data.at[i, 'OBV_SPY_metric'] = max_diff\n",
    "        data.at[i, 'OBV_SPY_window_length'] = j\n",
    "        data.at[i, 'Original_Index'] = i\n",
    "\n",
    "    return data\n",
    "\n",
    "# Example usage:\n",
    "# data = calculate_adjusted_obv_metric(data, initial_window_size=5, threshold=15, volume_window=20)\n"
   ]
  },
  {
   "cell_type": "code",
   "execution_count": 8,
   "id": "9cb5b49d-3c2b-48d7-b76f-ce5f5cd57bf8",
   "metadata": {
    "tags": []
   },
   "outputs": [
    {
     "data": {
      "image/png": "[encoded data removed]",
      "text/plain": [
       "<Figure size 1600x600 with 1 Axes>"
      ]
     },
     "metadata": {},
     "output_type": "display_data"
    }
   ],
   "source": [
    "def calculate_obv_spy_diff_series(data, volume_window=20):\n",
    "    # Calculate daily OBV deltas (volume × price sign)\n",
    "    data['OBV_delta'] = np.where(data['day_change'] > 0, data['Volume'],\n",
    "                          np.where(data['day_change'] < 0, -data['Volume'], 0))\n",
    "\n",
    "    # Rolling average volume\n",
    "    data['Rolling_Avg_Vol'] = data['Volume'].rolling(window=volume_window, min_periods=1).mean()\n",
    "\n",
    "    # OBV move factor: delta OBV / rolling avg volume\n",
    "    data['OBV_move_factor'] = data['OBV_delta'] / data['Rolling_Avg_Vol']\n",
    "\n",
    "    # SPY percent change\n",
    "    data['SPY_pct_change'] = data['day_change'] * 100\n",
    "\n",
    "    # Difference between OBV move factor and SPY % change\n",
    "    data['OBV_SPY_diff'] = data['OBV_move_factor'] - data['SPY_pct_change']\n",
    "\n",
    "    return data\n",
    "\n",
    "# Apply it\n",
    "data = calculate_obv_spy_diff_series(data, volume_window=20)\n",
    "\n",
    "# Plotting\n",
    "plt.figure(figsize=(16,6))\n",
    "plt.bar(data.index, data['OBV_SPY_diff'], color='skyblue')\n",
    "\n",
    "# Add red horizontal threshold lines\n",
    "threshold = 5\n",
    "plt.axhline(y=threshold, color='red', linestyle='dotted', linewidth=1.5)\n",
    "plt.axhline(y=-threshold, color='red', linestyle='dotted', linewidth=1.5)\n",
    "\n",
    "plt.title('OBV-SPY Difference Series with Threshold Lines')\n",
    "plt.xlabel('Index')\n",
    "plt.ylabel('OBV-SPY Diff')\n",
    "plt.grid(True)\n",
    "plt.show()\n"
   ]
  },
  {
   "cell_type": "code",
   "execution_count": null,
   "id": "392ace3b-cd9d-456c-a354-54c1900369c9",
   "metadata": {},
   "outputs": [],
   "source": []
  }
 ],
 "metadata": {
  "kernelspec": {
   "display_name": "Python 3 (ipykernel)",
   "language": "python",
   "name": "python3"
  },
  "language_info": {
   "codemirror_mode": {
    "name": "ipython",
    "version": 3
   },
   "file_extension": ".py",
   "mimetype": "text/x-python",
   "name": "python",
   "nbconvert_exporter": "python",
   "pygments_lexer": "ipython3",
   "version": "3.8.16"
  }
 },
 "nbformat": 4,
 "nbformat_minor": 5
}
