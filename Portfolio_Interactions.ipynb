{
 "cells": [
  {
   "cell_type": "code",
   "execution_count": 1,
   "id": "2fe810a4-6a80-4dbc-809a-ea8daa73e804",
   "metadata": {
    "tags": []
   },
   "outputs": [],
   "source": [
    "import os\n",
    "import pandas as pd\n",
    "import numpy as np\n",
    "import plotly.express as px\n",
    "import plotly.graph_objects as go\n",
    "\n",
    "from plotly.subplots import make_subplots"
   ]
  },
  {
   "cell_type": "code",
   "execution_count": 2,
   "id": "3cc187bb-a95a-4d47-a330-30ef55bb9fad",
   "metadata": {},
   "outputs": [],
   "source": [
    "def process_etf_data(etf_files, trading_folder=\"~/Desktop/Trading\"):\n",
    "    # Define the Data folder path\n",
    "    data_folder = os.path.join(os.path.expanduser(trading_folder), \"Data\")\n",
    "    \n",
    "    # Initialize an empty list to store the DataFrames\n",
    "    data_frames = []\n",
    "    \n",
    "    # Iterate over the list of ETF files\n",
    "    for file_name in etf_files:\n",
    "        # Construct the full file path\n",
    "        file_path = os.path.join(data_folder, file_name)\n",
    "        \n",
    "        # Read the CSV file into a DataFrame\n",
    "        data = pd.read_csv(file_path)\n",
    "        \n",
    "        # Convert 'Date' column to datetime format (assuming the column is named 'Date' in each file)\n",
    "        data['Date'] = pd.to_datetime(data['Date'])\n",
    "        \n",
    "        # Rename columns to include ETF name\n",
    "        etf_name = file_name.split('_')[0]  # Assuming the format of file name is like \"SPY_history.csv\"\n",
    "        data = data.add_suffix(f'_{etf_name}')\n",
    "        \n",
    "        # Append the DataFrame to the list\n",
    "        data_frames.append(data)\n",
    "    \n",
    "    # Combine all DataFrames side by side\n",
    "    combined_data = pd.concat(data_frames, axis=1)\n",
    "    \n",
    "    return combined_data\n",
    "\n",
    "# List portfolio securities here:\n",
    "etf_files = [\"SPY_history.csv\", \"XLU_history.csv\", \"XLF_history.csv\"]\n",
    "combined_data = process_etf_data(etf_files)"
   ]
  },
  {
   "cell_type": "code",
   "execution_count": 3,
   "id": "28116ad5-c94f-42ed-a8b2-a17500fe3fb1",
   "metadata": {
    "tags": []
   },
   "outputs": [
    {
     "name": "stdout",
     "output_type": "stream",
     "text": [
      "It will record the INDEX to make sure that future data manipulations don't force us to lose the order.\n"
     ]
    }
   ],
   "source": [
    "# Assuming 'data' is your existing DataFrame\n",
    "combined_data['Original_Index'] = combined_data.index  # Add the Original_Index column to capture current index\n",
    "print('''It will record the INDEX to make sure that future data manipulations don't force us to lose the order.''')"
   ]
  },
  {
   "cell_type": "code",
   "execution_count": 4,
   "id": "d65ceb3f-1bdc-4b67-892d-8b0b2bd0d100",
   "metadata": {},
   "outputs": [
    {
     "data": {
      "text/html": [
       "<div>\n",
       "<style scoped>\n",
       "    .dataframe tbody tr th:only-of-type {\n",
       "        vertical-align: middle;\n",
       "    }\n",
       "\n",
       "    .dataframe tbody tr th {\n",
       "        vertical-align: top;\n",
       "    }\n",
       "\n",
       "    .dataframe thead th {\n",
       "        text-align: right;\n",
       "    }\n",
       "</style>\n",
       "<table border=\"1\" class=\"dataframe\">\n",
       "  <thead>\n",
       "    <tr style=\"text-align: right;\">\n",
       "      <th></th>\n",
       "      <th>Date_SPY</th>\n",
       "      <th>Close/Last_SPY</th>\n",
       "      <th>Volume_SPY</th>\n",
       "      <th>Open_SPY</th>\n",
       "      <th>High_SPY</th>\n",
       "      <th>Low_SPY</th>\n",
       "      <th>Date_XLU</th>\n",
       "      <th>Close/Last_XLU</th>\n",
       "      <th>Volume_XLU</th>\n",
       "      <th>Open_XLU</th>\n",
       "      <th>High_XLU</th>\n",
       "      <th>Low_XLU</th>\n",
       "      <th>Date_XLF</th>\n",
       "      <th>Close/Last_XLF</th>\n",
       "      <th>Volume_XLF</th>\n",
       "      <th>Open_XLF</th>\n",
       "      <th>High_XLF</th>\n",
       "      <th>Low_XLF</th>\n",
       "      <th>Original_Index</th>\n",
       "    </tr>\n",
       "  </thead>\n",
       "  <tbody>\n",
       "    <tr>\n",
       "      <th>2515</th>\n",
       "      <td>2015-01-26</td>\n",
       "      <td>205.45</td>\n",
       "      <td>91684840</td>\n",
       "      <td>204.71</td>\n",
       "      <td>205.56</td>\n",
       "      <td>203.85</td>\n",
       "      <td>2015-01-26</td>\n",
       "      <td>49.11</td>\n",
       "      <td>8129107</td>\n",
       "      <td>49.10</td>\n",
       "      <td>49.15</td>\n",
       "      <td>48.66</td>\n",
       "      <td>2015-01-26</td>\n",
       "      <td>19.5712</td>\n",
       "      <td>22410730</td>\n",
       "      <td>19.4360</td>\n",
       "      <td>19.5794</td>\n",
       "      <td>19.3910</td>\n",
       "      <td>2515</td>\n",
       "    </tr>\n",
       "    <tr>\n",
       "      <th>2514</th>\n",
       "      <td>2015-01-27</td>\n",
       "      <td>202.74</td>\n",
       "      <td>133590500</td>\n",
       "      <td>202.97</td>\n",
       "      <td>204.12</td>\n",
       "      <td>201.74</td>\n",
       "      <td>2015-01-27</td>\n",
       "      <td>49.18</td>\n",
       "      <td>8746036</td>\n",
       "      <td>48.99</td>\n",
       "      <td>49.44</td>\n",
       "      <td>48.89</td>\n",
       "      <td>2015-01-27</td>\n",
       "      <td>19.3582</td>\n",
       "      <td>28581910</td>\n",
       "      <td>19.3008</td>\n",
       "      <td>19.4893</td>\n",
       "      <td>19.2845</td>\n",
       "      <td>2514</td>\n",
       "    </tr>\n",
       "  </tbody>\n",
       "</table>\n",
       "</div>"
      ],
      "text/plain": [
       "       Date_SPY  Close/Last_SPY  Volume_SPY  Open_SPY  High_SPY  Low_SPY  \\\n",
       "2515 2015-01-26          205.45    91684840    204.71    205.56   203.85   \n",
       "2514 2015-01-27          202.74   133590500    202.97    204.12   201.74   \n",
       "\n",
       "       Date_XLU  Close/Last_XLU  Volume_XLU  Open_XLU  High_XLU  Low_XLU  \\\n",
       "2515 2015-01-26           49.11     8129107     49.10     49.15    48.66   \n",
       "2514 2015-01-27           49.18     8746036     48.99     49.44    48.89   \n",
       "\n",
       "       Date_XLF  Close/Last_XLF  Volume_XLF  Open_XLF  High_XLF  Low_XLF  \\\n",
       "2515 2015-01-26         19.5712    22410730   19.4360   19.5794  19.3910   \n",
       "2514 2015-01-27         19.3582    28581910   19.3008   19.4893  19.2845   \n",
       "\n",
       "      Original_Index  \n",
       "2515            2515  \n",
       "2514            2514  "
      ]
     },
     "execution_count": 4,
     "metadata": {},
     "output_type": "execute_result"
    }
   ],
   "source": [
    "# Sort the DataFrame by date in ascending order\n",
    "combined_data = combined_data.sort_values(by='Original_Index', ascending=False)\n",
    "\n",
    "combined_data.head(2)"
   ]
  },
  {
   "cell_type": "code",
   "execution_count": 5,
   "id": "057545ad-9976-4b94-b5a2-49f2cb0f34aa",
   "metadata": {
    "tags": []
   },
   "outputs": [
    {
     "name": "stdout",
     "output_type": "stream",
     "text": [
      "(2516, 19)\n",
      "Index(['Date_SPY', 'Close/Last_SPY', 'Volume_SPY', 'Open_SPY', 'High_SPY',\n",
      "       'Low_SPY', 'Date_XLU', 'Close/Last_XLU', 'Volume_XLU', 'Open_XLU',\n",
      "       'High_XLU', 'Low_XLU', 'Date_XLF', 'Close/Last_XLF', 'Volume_XLF',\n",
      "       'Open_XLF', 'High_XLF', 'Low_XLF', 'Original_Index'],\n",
      "      dtype='object')\n"
     ]
    }
   ],
   "source": [
    "print(combined_data.shape)\n",
    "print(combined_data.columns)"
   ]
  },
  {
   "cell_type": "code",
   "execution_count": 6,
   "id": "129131bf-72bf-4e66-bde3-cbec7b3d7ec5",
   "metadata": {
    "tags": []
   },
   "outputs": [
    {
     "name": "stdout",
     "output_type": "stream",
     "text": [
      "(1016, 19)\n",
      "Index(['Date_SPY', 'Close/Last_SPY', 'Volume_SPY', 'Open_SPY', 'High_SPY',\n",
      "       'Low_SPY', 'Date_XLU', 'Close/Last_XLU', 'Volume_XLU', 'Open_XLU',\n",
      "       'High_XLU', 'Low_XLU', 'Date_XLF', 'Close/Last_XLF', 'Volume_XLF',\n",
      "       'Open_XLF', 'High_XLF', 'Low_XLF', 'Original_Index'],\n",
      "      dtype='object')\n"
     ]
    }
   ],
   "source": [
    "# DROP INDICES TO FIND MORE RECENT RELATIONSHIPS\n",
    "combined_data = combined_data.iloc[1500:] \n",
    "\n",
    "print(combined_data.shape)\n",
    "print(combined_data.columns)\n",
    "\n",
    "#THIS STILL PROVIDES ONLY A SNAPSHOT OF THE METRICS WE WILL LATER CALCULATE.. WHEN WHAT WE WANT IS A LINE GRAPH WITH BANDS OR A SANKEY. THIS WILL REQUIRE MUCH MORE COMPUTING POWER AND \n",
    "# A METRIC TO SUMMARIZE THE STANDARD DEVIAITON OF THE BANDS.. WE WANT TO ANSWER \"HOW CONSISTENT IS THIS RELATIONSHIP\""
   ]
  },
  {
   "cell_type": "code",
   "execution_count": 7,
   "id": "fdc161c7-ac90-48a5-aae2-b1f4e2a01604",
   "metadata": {},
   "outputs": [],
   "source": [
    "# Select only the \"Close/Last_\" columns\n",
    "close_columns = [col for col in combined_data.columns if col.startswith('Close/Last_')]\n",
    "\n",
    "# Calculate daily percentage returns\n",
    "returns = combined_data[close_columns].pct_change()\n",
    "\n",
    "# Drop NaN values (from the first row caused by pct_change)\n",
    "returns = returns.dropna()\n",
    "\n",
    "# 1. Correlation Matrix\n",
    "correlation_matrix = returns.corr()\n",
    "\n",
    "# 2. Covariance Matrix\n",
    "covariance_matrix = returns.cov()\n",
    "\n",
    "# 3. Beta Matrix - Adjust to have the same shape as correlation and covariance matrices\n",
    "benchmark = close_columns[0]\n",
    "betas = {}\n",
    "\n",
    "# Initialize beta_matrix with NaN values to match the size of the correlation and covariance matrices\n",
    "beta_matrix = pd.DataFrame(np.nan, index=close_columns, columns=close_columns)\n",
    "\n",
    "for col in close_columns:\n",
    "    for row in close_columns:\n",
    "        if col == row:\n",
    "            beta_matrix.loc[row, col] = 1\n",
    "        else:\n",
    "            beta = covariance_matrix.loc[col, benchmark] / covariance_matrix.loc[benchmark, benchmark] \n",
    "            beta_matrix.loc[col, benchmark] = beta"
   ]
  },
  {
   "cell_type": "code",
   "execution_count": 9,
   "id": "a27ffb56-cecf-481a-8488-a03536f3211c",
   "metadata": {
    "tags": []
   },
   "outputs": [
    {
     "data": {
      "application/vnd.plotly.v1+json": {
       "config": {
        "plotlyServerURL": "https://plot.ly"
       },
       "data": [
        {
         "colorbar": {
          "orientation": "v",
          "tickvals": [
           0.42555148088085215,
           0,
           1
          ],
          "title": {
           "text": "Correlation"
          },
          "x": 0.15,
          "xanchor": "center",
          "y": -0.25,
          "yanchor": "top"
         },
         "colorscale": [
          [
           0,
           "rgb(103,0,31)"
          ],
          [
           0.1,
           "rgb(178,24,43)"
          ],
          [
           0.2,
           "rgb(214,96,77)"
          ],
          [
           0.3,
           "rgb(244,165,130)"
          ],
          [
           0.4,
           "rgb(253,219,199)"
          ],
          [
           0.5,
           "rgb(247,247,247)"
          ],
          [
           0.6,
           "rgb(209,229,240)"
          ],
          [
           0.7,
           "rgb(146,197,222)"
          ],
          [
           0.8,
           "rgb(67,147,195)"
          ],
          [
           0.9,
           "rgb(33,102,172)"
          ],
          [
           1,
           "rgb(5,48,97)"
          ]
         ],
         "hoverinfo": "skip",
         "showscale": true,
         "text": [
          [
           1,
           0.47,
           0.79
          ],
          [
           0.47,
           1,
           0.43
          ],
          [
           0.79,
           0.43,
           1
          ]
         ],
         "texttemplate": "%{text}",
         "type": "heatmap",
         "x": [
          "Close/Last_SPY",
          "Close/Last_XLU",
          "Close/Last_XLF"
         ],
         "xaxis": "x",
         "y": [
          "Close/Last_SPY",
          "Close/Last_XLU",
          "Close/Last_XLF"
         ],
         "yaxis": "y",
         "z": [
          [
           1,
           0.4711028115117099,
           0.7891317355286929
          ],
          [
           0.4711028115117099,
           1,
           0.42555148088085215
          ],
          [
           0.7891317355286929,
           0.42555148088085215,
           1
          ]
         ]
        },
        {
         "colorbar": {
          "orientation": "v",
          "tickvals": [
           54.08414914119249,
           0,
           138.94768649447028
          ],
          "title": {
           "text": "Covariance"
          },
          "x": 0.5,
          "xanchor": "center",
          "y": -0.25,
          "yanchor": "top"
         },
         "colorscale": [
          [
           0,
           "rgb(103,0,31)"
          ],
          [
           0.1,
           "rgb(178,24,43)"
          ],
          [
           0.2,
           "rgb(214,96,77)"
          ],
          [
           0.3,
           "rgb(244,165,130)"
          ],
          [
           0.4,
           "rgb(253,219,199)"
          ],
          [
           0.5,
           "rgb(247,247,247)"
          ],
          [
           0.6,
           "rgb(209,229,240)"
          ],
          [
           0.7,
           "rgb(146,197,222)"
          ],
          [
           0.8,
           "rgb(67,147,195)"
          ],
          [
           0.9,
           "rgb(33,102,172)"
          ],
          [
           1,
           "rgb(5,48,97)"
          ]
         ],
         "hoverinfo": "skip",
         "showscale": true,
         "text": [
          [
           108.13,
           54.08,
           96.73
          ],
          [
           54.08,
           121.89,
           55.38
          ],
          [
           96.73,
           55.38,
           138.95
          ]
         ],
         "texttemplate": "%{text}",
         "type": "heatmap",
         "x": [
          "Close/Last_SPY",
          "Close/Last_XLU",
          "Close/Last_XLF"
         ],
         "xaxis": "x2",
         "y": [
          "Close/Last_SPY",
          "Close/Last_XLU",
          "Close/Last_XLF"
         ],
         "yaxis": "y2",
         "z": [
          [
           108.12699838855562,
           54.08414914119249,
           96.72578049980206
          ],
          [
           54.08414914119249,
           121.89179263019216,
           55.38153620364418
          ],
          [
           96.72578049980206,
           55.38153620364418,
           138.94768649447028
          ]
         ]
        },
        {
         "colorbar": {
          "orientation": "v",
          "tickvals": [
           null,
           0,
           null
          ],
          "title": {
           "text": "Beta"
          },
          "x": 0.85,
          "xanchor": "center",
          "y": -0.25,
          "yanchor": "top"
         },
         "colorscale": [
          [
           0,
           "rgb(103,0,31)"
          ],
          [
           0.1,
           "rgb(178,24,43)"
          ],
          [
           0.2,
           "rgb(214,96,77)"
          ],
          [
           0.3,
           "rgb(244,165,130)"
          ],
          [
           0.4,
           "rgb(253,219,199)"
          ],
          [
           0.5,
           "rgb(247,247,247)"
          ],
          [
           0.6,
           "rgb(209,229,240)"
          ],
          [
           0.7,
           "rgb(146,197,222)"
          ],
          [
           0.8,
           "rgb(67,147,195)"
          ],
          [
           0.9,
           "rgb(33,102,172)"
          ],
          [
           1,
           "rgb(5,48,97)"
          ]
         ],
         "hoverinfo": "skip",
         "showscale": true,
         "text": [
          [
           1,
           null,
           null
          ],
          [
           0.5,
           1,
           null
          ],
          [
           0.89,
           null,
           1
          ]
         ],
         "texttemplate": "%{text}",
         "type": "heatmap",
         "x": [
          "Close/Last_SPY",
          "Close/Last_XLU",
          "Close/Last_XLF"
         ],
         "xaxis": "x3",
         "y": [
          "Close/Last_SPY",
          "Close/Last_XLU",
          "Close/Last_XLF"
         ],
         "yaxis": "y3",
         "z": [
          [
           1,
           null,
           null
          ],
          [
           0.5001909786382904,
           1,
           null
          ],
          [
           0.8945571590937615,
           null,
           1
          ]
         ]
        }
       ],
       "layout": {
        "annotations": [
         {
          "font": {
           "size": 16
          },
          "showarrow": false,
          "text": "Correlation Matrix",
          "x": 0.14444444444444443,
          "xanchor": "center",
          "xref": "paper",
          "y": 1,
          "yanchor": "bottom",
          "yref": "paper"
         },
         {
          "font": {
           "size": 16
          },
          "showarrow": false,
          "text": "Covariance Matrix (mu)",
          "x": 0.49999999999999994,
          "xanchor": "center",
          "xref": "paper",
          "y": 1,
          "yanchor": "bottom",
          "yref": "paper"
         },
         {
          "font": {
           "size": 16
          },
          "showarrow": false,
          "text": "Beta Matrix",
          "x": 0.8555555555555554,
          "xanchor": "center",
          "xref": "paper",
          "y": 1,
          "yanchor": "bottom",
          "yref": "paper"
         }
        ],
        "autosize": true,
        "showlegend": false,
        "template": {
         "data": {
          "bar": [
           {
            "error_x": {
             "color": "#2a3f5f"
            },
            "error_y": {
             "color": "#2a3f5f"
            },
            "marker": {
             "line": {
              "color": "#E5ECF6",
              "width": 0.5
             },
             "pattern": {
              "fillmode": "overlay",
              "size": 10,
              "solidity": 0.2
             }
            },
            "type": "bar"
           }
          ],
          "barpolar": [
           {
            "marker": {
             "line": {
              "color": "#E5ECF6",
              "width": 0.5
             },
             "pattern": {
              "fillmode": "overlay",
              "size": 10,
              "solidity": 0.2
             }
            },
            "type": "barpolar"
           }
          ],
          "carpet": [
           {
            "aaxis": {
             "endlinecolor": "#2a3f5f",
             "gridcolor": "white",
             "linecolor": "white",
             "minorgridcolor": "white",
             "startlinecolor": "#2a3f5f"
            },
            "baxis": {
             "endlinecolor": "#2a3f5f",
             "gridcolor": "white",
             "linecolor": "white",
             "minorgridcolor": "white",
             "startlinecolor": "#2a3f5f"
            },
            "type": "carpet"
           }
          ],
          "choropleth": [
           {
            "colorbar": {
             "outlinewidth": 0,
             "ticks": ""
            },
            "type": "choropleth"
           }
          ],
          "contour": [
           {
            "colorbar": {
             "outlinewidth": 0,
             "ticks": ""
            },
            "colorscale": [
             [
              0,
              "#0d0887"
             ],
             [
              0.1111111111111111,
              "#46039f"
             ],
             [
              0.2222222222222222,
              "#7201a8"
             ],
             [
              0.3333333333333333,
              "#9c179e"
             ],
             [
              0.4444444444444444,
              "#bd3786"
             ],
             [
              0.5555555555555556,
              "#d8576b"
             ],
             [
              0.6666666666666666,
              "#ed7953"
             ],
             [
              0.7777777777777778,
              "#fb9f3a"
             ],
             [
              0.8888888888888888,
              "#fdca26"
             ],
             [
              1,
              "#f0f921"
             ]
            ],
            "type": "contour"
           }
          ],
          "contourcarpet": [
           {
            "colorbar": {
             "outlinewidth": 0,
             "ticks": ""
            },
            "type": "contourcarpet"
           }
          ],
          "heatmap": [
           {
            "colorbar": {
             "outlinewidth": 0,
             "ticks": ""
            },
            "colorscale": [
             [
              0,
              "#0d0887"
             ],
             [
              0.1111111111111111,
              "#46039f"
             ],
             [
              0.2222222222222222,
              "#7201a8"
             ],
             [
              0.3333333333333333,
              "#9c179e"
             ],
             [
              0.4444444444444444,
              "#bd3786"
             ],
             [
              0.5555555555555556,
              "#d8576b"
             ],
             [
              0.6666666666666666,
              "#ed7953"
             ],
             [
              0.7777777777777778,
              "#fb9f3a"
             ],
             [
              0.8888888888888888,
              "#fdca26"
             ],
             [
              1,
              "#f0f921"
             ]
            ],
            "type": "heatmap"
           }
          ],
          "heatmapgl": [
           {
            "colorbar": {
             "outlinewidth": 0,
             "ticks": ""
            },
            "colorscale": [
             [
              0,
              "#0d0887"
             ],
             [
              0.1111111111111111,
              "#46039f"
             ],
             [
              0.2222222222222222,
              "#7201a8"
             ],
             [
              0.3333333333333333,
              "#9c179e"
             ],
             [
              0.4444444444444444,
              "#bd3786"
             ],
             [
              0.5555555555555556,
              "#d8576b"
             ],
             [
              0.6666666666666666,
              "#ed7953"
             ],
             [
              0.7777777777777778,
              "#fb9f3a"
             ],
             [
              0.8888888888888888,
              "#fdca26"
             ],
             [
              1,
              "#f0f921"
             ]
            ],
            "type": "heatmapgl"
           }
          ],
          "histogram": [
           {
            "marker": {
             "pattern": {
              "fillmode": "overlay",
              "size": 10,
              "solidity": 0.2
             }
            },
            "type": "histogram"
           }
          ],
          "histogram2d": [
           {
            "colorbar": {
             "outlinewidth": 0,
             "ticks": ""
            },
            "colorscale": [
             [
              0,
              "#0d0887"
             ],
             [
              0.1111111111111111,
              "#46039f"
             ],
             [
              0.2222222222222222,
              "#7201a8"
             ],
             [
              0.3333333333333333,
              "#9c179e"
             ],
             [
              0.4444444444444444,
              "#bd3786"
             ],
             [
              0.5555555555555556,
              "#d8576b"
             ],
             [
              0.6666666666666666,
              "#ed7953"
             ],
             [
              0.7777777777777778,
              "#fb9f3a"
             ],
             [
              0.8888888888888888,
              "#fdca26"
             ],
             [
              1,
              "#f0f921"
             ]
            ],
            "type": "histogram2d"
           }
          ],
          "histogram2dcontour": [
           {
            "colorbar": {
             "outlinewidth": 0,
             "ticks": ""
            },
            "colorscale": [
             [
              0,
              "#0d0887"
             ],
             [
              0.1111111111111111,
              "#46039f"
             ],
             [
              0.2222222222222222,
              "#7201a8"
             ],
             [
              0.3333333333333333,
              "#9c179e"
             ],
             [
              0.4444444444444444,
              "#bd3786"
             ],
             [
              0.5555555555555556,
              "#d8576b"
             ],
             [
              0.6666666666666666,
              "#ed7953"
             ],
             [
              0.7777777777777778,
              "#fb9f3a"
             ],
             [
              0.8888888888888888,
              "#fdca26"
             ],
             [
              1,
              "#f0f921"
             ]
            ],
            "type": "histogram2dcontour"
           }
          ],
          "mesh3d": [
           {
            "colorbar": {
             "outlinewidth": 0,
             "ticks": ""
            },
            "type": "mesh3d"
           }
          ],
          "parcoords": [
           {
            "line": {
             "colorbar": {
              "outlinewidth": 0,
              "ticks": ""
             }
            },
            "type": "parcoords"
           }
          ],
          "pie": [
           {
            "automargin": true,
            "type": "pie"
           }
          ],
          "scatter": [
           {
            "fillpattern": {
             "fillmode": "overlay",
             "size": 10,
             "solidity": 0.2
            },
            "type": "scatter"
           }
          ],
          "scatter3d": [
           {
            "line": {
             "colorbar": {
              "outlinewidth": 0,
              "ticks": ""
             }
            },
            "marker": {
             "colorbar": {
              "outlinewidth": 0,
              "ticks": ""
             }
            },
            "type": "scatter3d"
           }
          ],
          "scattercarpet": [
           {
            "marker": {
             "colorbar": {
              "outlinewidth": 0,
              "ticks": ""
             }
            },
            "type": "scattercarpet"
           }
          ],
          "scattergeo": [
           {
            "marker": {
             "colorbar": {
              "outlinewidth": 0,
              "ticks": ""
             }
            },
            "type": "scattergeo"
           }
          ],
          "scattergl": [
           {
            "marker": {
             "colorbar": {
              "outlinewidth": 0,
              "ticks": ""
             }
            },
            "type": "scattergl"
           }
          ],
          "scattermapbox": [
           {
            "marker": {
             "colorbar": {
              "outlinewidth": 0,
              "ticks": ""
             }
            },
            "type": "scattermapbox"
           }
          ],
          "scatterpolar": [
           {
            "marker": {
             "colorbar": {
              "outlinewidth": 0,
              "ticks": ""
             }
            },
            "type": "scatterpolar"
           }
          ],
          "scatterpolargl": [
           {
            "marker": {
             "colorbar": {
              "outlinewidth": 0,
              "ticks": ""
             }
            },
            "type": "scatterpolargl"
           }
          ],
          "scatterternary": [
           {
            "marker": {
             "colorbar": {
              "outlinewidth": 0,
              "ticks": ""
             }
            },
            "type": "scatterternary"
           }
          ],
          "surface": [
           {
            "colorbar": {
             "outlinewidth": 0,
             "ticks": ""
            },
            "colorscale": [
             [
              0,
              "#0d0887"
             ],
             [
              0.1111111111111111,
              "#46039f"
             ],
             [
              0.2222222222222222,
              "#7201a8"
             ],
             [
              0.3333333333333333,
              "#9c179e"
             ],
             [
              0.4444444444444444,
              "#bd3786"
             ],
             [
              0.5555555555555556,
              "#d8576b"
             ],
             [
              0.6666666666666666,
              "#ed7953"
             ],
             [
              0.7777777777777778,
              "#fb9f3a"
             ],
             [
              0.8888888888888888,
              "#fdca26"
             ],
             [
              1,
              "#f0f921"
             ]
            ],
            "type": "surface"
           }
          ],
          "table": [
           {
            "cells": {
             "fill": {
              "color": "#EBF0F8"
             },
             "line": {
              "color": "white"
             }
            },
            "header": {
             "fill": {
              "color": "#C8D4E3"
             },
             "line": {
              "color": "white"
             }
            },
            "type": "table"
           }
          ]
         },
         "layout": {
          "annotationdefaults": {
           "arrowcolor": "#2a3f5f",
           "arrowhead": 0,
           "arrowwidth": 1
          },
          "autotypenumbers": "strict",
          "coloraxis": {
           "colorbar": {
            "outlinewidth": 0,
            "ticks": ""
           }
          },
          "colorscale": {
           "diverging": [
            [
             0,
             "#8e0152"
            ],
            [
             0.1,
             "#c51b7d"
            ],
            [
             0.2,
             "#de77ae"
            ],
            [
             0.3,
             "#f1b6da"
            ],
            [
             0.4,
             "#fde0ef"
            ],
            [
             0.5,
             "#f7f7f7"
            ],
            [
             0.6,
             "#e6f5d0"
            ],
            [
             0.7,
             "#b8e186"
            ],
            [
             0.8,
             "#7fbc41"
            ],
            [
             0.9,
             "#4d9221"
            ],
            [
             1,
             "#276419"
            ]
           ],
           "sequential": [
            [
             0,
             "#0d0887"
            ],
            [
             0.1111111111111111,
             "#46039f"
            ],
            [
             0.2222222222222222,
             "#7201a8"
            ],
            [
             0.3333333333333333,
             "#9c179e"
            ],
            [
             0.4444444444444444,
             "#bd3786"
            ],
            [
             0.5555555555555556,
             "#d8576b"
            ],
            [
             0.6666666666666666,
             "#ed7953"
            ],
            [
             0.7777777777777778,
             "#fb9f3a"
            ],
            [
             0.8888888888888888,
             "#fdca26"
            ],
            [
             1,
             "#f0f921"
            ]
           ],
           "sequentialminus": [
            [
             0,
             "#0d0887"
            ],
            [
             0.1111111111111111,
             "#46039f"
            ],
            [
             0.2222222222222222,
             "#7201a8"
            ],
            [
             0.3333333333333333,
             "#9c179e"
            ],
            [
             0.4444444444444444,
             "#bd3786"
            ],
            [
             0.5555555555555556,
             "#d8576b"
            ],
            [
             0.6666666666666666,
             "#ed7953"
            ],
            [
             0.7777777777777778,
             "#fb9f3a"
            ],
            [
             0.8888888888888888,
             "#fdca26"
            ],
            [
             1,
             "#f0f921"
            ]
           ]
          },
          "colorway": [
           "#636efa",
           "#EF553B",
           "#00cc96",
           "#ab63fa",
           "#FFA15A",
           "#19d3f3",
           "#FF6692",
           "#B6E880",
           "#FF97FF",
           "#FECB52"
          ],
          "font": {
           "color": "#2a3f5f"
          },
          "geo": {
           "bgcolor": "white",
           "lakecolor": "white",
           "landcolor": "#E5ECF6",
           "showlakes": true,
           "showland": true,
           "subunitcolor": "white"
          },
          "hoverlabel": {
           "align": "left"
          },
          "hovermode": "closest",
          "mapbox": {
           "style": "light"
          },
          "paper_bgcolor": "white",
          "plot_bgcolor": "#E5ECF6",
          "polar": {
           "angularaxis": {
            "gridcolor": "white",
            "linecolor": "white",
            "ticks": ""
           },
           "bgcolor": "#E5ECF6",
           "radialaxis": {
            "gridcolor": "white",
            "linecolor": "white",
            "ticks": ""
           }
          },
          "scene": {
           "xaxis": {
            "backgroundcolor": "#E5ECF6",
            "gridcolor": "white",
            "gridwidth": 2,
            "linecolor": "white",
            "showbackground": true,
            "ticks": "",
            "zerolinecolor": "white"
           },
           "yaxis": {
            "backgroundcolor": "#E5ECF6",
            "gridcolor": "white",
            "gridwidth": 2,
            "linecolor": "white",
            "showbackground": true,
            "ticks": "",
            "zerolinecolor": "white"
           },
           "zaxis": {
            "backgroundcolor": "#E5ECF6",
            "gridcolor": "white",
            "gridwidth": 2,
            "linecolor": "white",
            "showbackground": true,
            "ticks": "",
            "zerolinecolor": "white"
           }
          },
          "shapedefaults": {
           "line": {
            "color": "#2a3f5f"
           }
          },
          "ternary": {
           "aaxis": {
            "gridcolor": "white",
            "linecolor": "white",
            "ticks": ""
           },
           "baxis": {
            "gridcolor": "white",
            "linecolor": "white",
            "ticks": ""
           },
           "bgcolor": "#E5ECF6",
           "caxis": {
            "gridcolor": "white",
            "linecolor": "white",
            "ticks": ""
           }
          },
          "title": {
           "x": 0.05
          },
          "xaxis": {
           "automargin": true,
           "gridcolor": "white",
           "linecolor": "white",
           "ticks": "",
           "title": {
            "standoff": 15
           },
           "zerolinecolor": "white",
           "zerolinewidth": 2
          },
          "yaxis": {
           "automargin": true,
           "gridcolor": "white",
           "linecolor": "white",
           "ticks": "",
           "title": {
            "standoff": 15
           },
           "zerolinecolor": "white",
           "zerolinewidth": 2
          }
         }
        },
        "title": {
         "text": "Correlation, Covariance (mu), and Beta Matrices",
         "x": 0.5
        },
        "xaxis": {
         "anchor": "y",
         "autorange": true,
         "domain": [
          0,
          0.28888888888888886
         ],
         "range": [
          -0.5,
          2.5
         ],
         "type": "category"
        },
        "xaxis2": {
         "anchor": "y2",
         "autorange": true,
         "domain": [
          0.3555555555555555,
          0.6444444444444444
         ],
         "range": [
          -0.5,
          2.5
         ],
         "type": "category"
        },
        "xaxis3": {
         "anchor": "y3",
         "autorange": true,
         "domain": [
          0.711111111111111,
          0.9999999999999999
         ],
         "range": [
          -0.5,
          2.5
         ],
         "type": "category"
        },
        "yaxis": {
         "anchor": "x",
         "autorange": true,
         "domain": [
          0,
          1
         ],
         "range": [
          -0.5,
          2.5
         ],
         "type": "category"
        },
        "yaxis2": {
         "anchor": "x2",
         "autorange": true,
         "domain": [
          0,
          1
         ],
         "matches": "y",
         "range": [
          -0.5,
          2.5
         ],
         "showticklabels": false,
         "type": "category"
        },
        "yaxis3": {
         "anchor": "x3",
         "autorange": true,
         "domain": [
          0,
          1
         ],
         "matches": "y",
         "range": [
          -0.5,
          2.5
         ],
         "showticklabels": false,
         "type": "category"
        }
       }
      },
      "image/png": "[encoded data removed]",
      "text/html": [
       "<div>                            <div id=\"0e19d32a-fd2b-47dd-905b-af3d45a5c2fa\" class=\"plotly-graph-div\" style=\"height:750px; width:100%;\"></div>            <script type=\"text/javascript\">                require([\"plotly\"], function(Plotly) {                    window.PLOTLYENV=window.PLOTLYENV || {};                                    if (document.getElementById(\"0e19d32a-fd2b-47dd-905b-af3d45a5c2fa\")) {                    Plotly.newPlot(                        \"0e19d32a-fd2b-47dd-905b-af3d45a5c2fa\",                        [{\"colorbar\":{\"orientation\":\"v\",\"tickvals\":[0.42555148088085215,0,1.0],\"title\":{\"text\":\"Correlation\"},\"x\":0.15,\"xanchor\":\"center\",\"y\":-0.25,\"yanchor\":\"top\"},\"colorscale\":[[0.0,\"rgb(103,0,31)\"],[0.1,\"rgb(178,24,43)\"],[0.2,\"rgb(214,96,77)\"],[0.3,\"rgb(244,165,130)\"],[0.4,\"rgb(253,219,199)\"],[0.5,\"rgb(247,247,247)\"],[0.6,\"rgb(209,229,240)\"],[0.7,\"rgb(146,197,222)\"],[0.8,\"rgb(67,147,195)\"],[0.9,\"rgb(33,102,172)\"],[1.0,\"rgb(5,48,97)\"]],\"hoverinfo\":\"skip\",\"showscale\":true,\"text\":[[1.0,0.47,0.79],[0.47,1.0,0.43],[0.79,0.43,1.0]],\"texttemplate\":\"%{text}\",\"x\":[\"Close/Last_SPY\",\"Close/Last_XLU\",\"Close/Last_XLF\"],\"y\":[\"Close/Last_SPY\",\"Close/Last_XLU\",\"Close/Last_XLF\"],\"z\":[[1.0,0.4711028115117099,0.7891317355286929],[0.4711028115117099,1.0,0.42555148088085215],[0.7891317355286929,0.42555148088085215,1.0]],\"type\":\"heatmap\",\"xaxis\":\"x\",\"yaxis\":\"y\"},{\"colorbar\":{\"orientation\":\"v\",\"tickvals\":[54.08414914119249,0,138.94768649447028],\"title\":{\"text\":\"Covariance\"},\"x\":0.5,\"xanchor\":\"center\",\"y\":-0.25,\"yanchor\":\"top\"},\"colorscale\":[[0.0,\"rgb(103,0,31)\"],[0.1,\"rgb(178,24,43)\"],[0.2,\"rgb(214,96,77)\"],[0.3,\"rgb(244,165,130)\"],[0.4,\"rgb(253,219,199)\"],[0.5,\"rgb(247,247,247)\"],[0.6,\"rgb(209,229,240)\"],[0.7,\"rgb(146,197,222)\"],[0.8,\"rgb(67,147,195)\"],[0.9,\"rgb(33,102,172)\"],[1.0,\"rgb(5,48,97)\"]],\"hoverinfo\":\"skip\",\"showscale\":true,\"text\":[[108.13,54.08,96.73],[54.08,121.89,55.38],[96.73,55.38,138.95]],\"texttemplate\":\"%{text}\",\"x\":[\"Close/Last_SPY\",\"Close/Last_XLU\",\"Close/Last_XLF\"],\"y\":[\"Close/Last_SPY\",\"Close/Last_XLU\",\"Close/Last_XLF\"],\"z\":[[108.12699838855562,54.08414914119249,96.72578049980206],[54.08414914119249,121.89179263019216,55.38153620364418],[96.72578049980206,55.38153620364418,138.94768649447028]],\"type\":\"heatmap\",\"xaxis\":\"x2\",\"yaxis\":\"y2\"},{\"colorbar\":{\"orientation\":\"v\",\"tickvals\":[null,0,null],\"title\":{\"text\":\"Beta\"},\"x\":0.85,\"xanchor\":\"center\",\"y\":-0.25,\"yanchor\":\"top\"},\"colorscale\":[[0.0,\"rgb(103,0,31)\"],[0.1,\"rgb(178,24,43)\"],[0.2,\"rgb(214,96,77)\"],[0.3,\"rgb(244,165,130)\"],[0.4,\"rgb(253,219,199)\"],[0.5,\"rgb(247,247,247)\"],[0.6,\"rgb(209,229,240)\"],[0.7,\"rgb(146,197,222)\"],[0.8,\"rgb(67,147,195)\"],[0.9,\"rgb(33,102,172)\"],[1.0,\"rgb(5,48,97)\"]],\"hoverinfo\":\"skip\",\"showscale\":true,\"text\":[[1.0,null,null],[0.5,1.0,null],[0.89,null,1.0]],\"texttemplate\":\"%{text}\",\"x\":[\"Close/Last_SPY\",\"Close/Last_XLU\",\"Close/Last_XLF\"],\"y\":[\"Close/Last_SPY\",\"Close/Last_XLU\",\"Close/Last_XLF\"],\"z\":[[1.0,null,null],[0.5001909786382904,1.0,null],[0.8945571590937615,null,1.0]],\"type\":\"heatmap\",\"xaxis\":\"x3\",\"yaxis\":\"y3\"}],                        {\"template\":{\"data\":{\"histogram2dcontour\":[{\"type\":\"histogram2dcontour\",\"colorbar\":{\"outlinewidth\":0,\"ticks\":\"\"},\"colorscale\":[[0.0,\"#0d0887\"],[0.1111111111111111,\"#46039f\"],[0.2222222222222222,\"#7201a8\"],[0.3333333333333333,\"#9c179e\"],[0.4444444444444444,\"#bd3786\"],[0.5555555555555556,\"#d8576b\"],[0.6666666666666666,\"#ed7953\"],[0.7777777777777778,\"#fb9f3a\"],[0.8888888888888888,\"#fdca26\"],[1.0,\"#f0f921\"]]}],\"choropleth\":[{\"type\":\"choropleth\",\"colorbar\":{\"outlinewidth\":0,\"ticks\":\"\"}}],\"histogram2d\":[{\"type\":\"histogram2d\",\"colorbar\":{\"outlinewidth\":0,\"ticks\":\"\"},\"colorscale\":[[0.0,\"#0d0887\"],[0.1111111111111111,\"#46039f\"],[0.2222222222222222,\"#7201a8\"],[0.3333333333333333,\"#9c179e\"],[0.4444444444444444,\"#bd3786\"],[0.5555555555555556,\"#d8576b\"],[0.6666666666666666,\"#ed7953\"],[0.7777777777777778,\"#fb9f3a\"],[0.8888888888888888,\"#fdca26\"],[1.0,\"#f0f921\"]]}],\"heatmap\":[{\"type\":\"heatmap\",\"colorbar\":{\"outlinewidth\":0,\"ticks\":\"\"},\"colorscale\":[[0.0,\"#0d0887\"],[0.1111111111111111,\"#46039f\"],[0.2222222222222222,\"#7201a8\"],[0.3333333333333333,\"#9c179e\"],[0.4444444444444444,\"#bd3786\"],[0.5555555555555556,\"#d8576b\"],[0.6666666666666666,\"#ed7953\"],[0.7777777777777778,\"#fb9f3a\"],[0.8888888888888888,\"#fdca26\"],[1.0,\"#f0f921\"]]}],\"heatmapgl\":[{\"type\":\"heatmapgl\",\"colorbar\":{\"outlinewidth\":0,\"ticks\":\"\"},\"colorscale\":[[0.0,\"#0d0887\"],[0.1111111111111111,\"#46039f\"],[0.2222222222222222,\"#7201a8\"],[0.3333333333333333,\"#9c179e\"],[0.4444444444444444,\"#bd3786\"],[0.5555555555555556,\"#d8576b\"],[0.6666666666666666,\"#ed7953\"],[0.7777777777777778,\"#fb9f3a\"],[0.8888888888888888,\"#fdca26\"],[1.0,\"#f0f921\"]]}],\"contourcarpet\":[{\"type\":\"contourcarpet\",\"colorbar\":{\"outlinewidth\":0,\"ticks\":\"\"}}],\"contour\":[{\"type\":\"contour\",\"colorbar\":{\"outlinewidth\":0,\"ticks\":\"\"},\"colorscale\":[[0.0,\"#0d0887\"],[0.1111111111111111,\"#46039f\"],[0.2222222222222222,\"#7201a8\"],[0.3333333333333333,\"#9c179e\"],[0.4444444444444444,\"#bd3786\"],[0.5555555555555556,\"#d8576b\"],[0.6666666666666666,\"#ed7953\"],[0.7777777777777778,\"#fb9f3a\"],[0.8888888888888888,\"#fdca26\"],[1.0,\"#f0f921\"]]}],\"surface\":[{\"type\":\"surface\",\"colorbar\":{\"outlinewidth\":0,\"ticks\":\"\"},\"colorscale\":[[0.0,\"#0d0887\"],[0.1111111111111111,\"#46039f\"],[0.2222222222222222,\"#7201a8\"],[0.3333333333333333,\"#9c179e\"],[0.4444444444444444,\"#bd3786\"],[0.5555555555555556,\"#d8576b\"],[0.6666666666666666,\"#ed7953\"],[0.7777777777777778,\"#fb9f3a\"],[0.8888888888888888,\"#fdca26\"],[1.0,\"#f0f921\"]]}],\"mesh3d\":[{\"type\":\"mesh3d\",\"colorbar\":{\"outlinewidth\":0,\"ticks\":\"\"}}],\"scatter\":[{\"fillpattern\":{\"fillmode\":\"overlay\",\"size\":10,\"solidity\":0.2},\"type\":\"scatter\"}],\"parcoords\":[{\"type\":\"parcoords\",\"line\":{\"colorbar\":{\"outlinewidth\":0,\"ticks\":\"\"}}}],\"scatterpolargl\":[{\"type\":\"scatterpolargl\",\"marker\":{\"colorbar\":{\"outlinewidth\":0,\"ticks\":\"\"}}}],\"bar\":[{\"error_x\":{\"color\":\"#2a3f5f\"},\"error_y\":{\"color\":\"#2a3f5f\"},\"marker\":{\"line\":{\"color\":\"#E5ECF6\",\"width\":0.5},\"pattern\":{\"fillmode\":\"overlay\",\"size\":10,\"solidity\":0.2}},\"type\":\"bar\"}],\"scattergeo\":[{\"type\":\"scattergeo\",\"marker\":{\"colorbar\":{\"outlinewidth\":0,\"ticks\":\"\"}}}],\"scatterpolar\":[{\"type\":\"scatterpolar\",\"marker\":{\"colorbar\":{\"outlinewidth\":0,\"ticks\":\"\"}}}],\"histogram\":[{\"marker\":{\"pattern\":{\"fillmode\":\"overlay\",\"size\":10,\"solidity\":0.2}},\"type\":\"histogram\"}],\"scattergl\":[{\"type\":\"scattergl\",\"marker\":{\"colorbar\":{\"outlinewidth\":0,\"ticks\":\"\"}}}],\"scatter3d\":[{\"type\":\"scatter3d\",\"line\":{\"colorbar\":{\"outlinewidth\":0,\"ticks\":\"\"}},\"marker\":{\"colorbar\":{\"outlinewidth\":0,\"ticks\":\"\"}}}],\"scattermapbox\":[{\"type\":\"scattermapbox\",\"marker\":{\"colorbar\":{\"outlinewidth\":0,\"ticks\":\"\"}}}],\"scatterternary\":[{\"type\":\"scatterternary\",\"marker\":{\"colorbar\":{\"outlinewidth\":0,\"ticks\":\"\"}}}],\"scattercarpet\":[{\"type\":\"scattercarpet\",\"marker\":{\"colorbar\":{\"outlinewidth\":0,\"ticks\":\"\"}}}],\"carpet\":[{\"aaxis\":{\"endlinecolor\":\"#2a3f5f\",\"gridcolor\":\"white\",\"linecolor\":\"white\",\"minorgridcolor\":\"white\",\"startlinecolor\":\"#2a3f5f\"},\"baxis\":{\"endlinecolor\":\"#2a3f5f\",\"gridcolor\":\"white\",\"linecolor\":\"white\",\"minorgridcolor\":\"white\",\"startlinecolor\":\"#2a3f5f\"},\"type\":\"carpet\"}],\"table\":[{\"cells\":{\"fill\":{\"color\":\"#EBF0F8\"},\"line\":{\"color\":\"white\"}},\"header\":{\"fill\":{\"color\":\"#C8D4E3\"},\"line\":{\"color\":\"white\"}},\"type\":\"table\"}],\"barpolar\":[{\"marker\":{\"line\":{\"color\":\"#E5ECF6\",\"width\":0.5},\"pattern\":{\"fillmode\":\"overlay\",\"size\":10,\"solidity\":0.2}},\"type\":\"barpolar\"}],\"pie\":[{\"automargin\":true,\"type\":\"pie\"}]},\"layout\":{\"autotypenumbers\":\"strict\",\"colorway\":[\"#636efa\",\"#EF553B\",\"#00cc96\",\"#ab63fa\",\"#FFA15A\",\"#19d3f3\",\"#FF6692\",\"#B6E880\",\"#FF97FF\",\"#FECB52\"],\"font\":{\"color\":\"#2a3f5f\"},\"hovermode\":\"closest\",\"hoverlabel\":{\"align\":\"left\"},\"paper_bgcolor\":\"white\",\"plot_bgcolor\":\"#E5ECF6\",\"polar\":{\"bgcolor\":\"#E5ECF6\",\"angularaxis\":{\"gridcolor\":\"white\",\"linecolor\":\"white\",\"ticks\":\"\"},\"radialaxis\":{\"gridcolor\":\"white\",\"linecolor\":\"white\",\"ticks\":\"\"}},\"ternary\":{\"bgcolor\":\"#E5ECF6\",\"aaxis\":{\"gridcolor\":\"white\",\"linecolor\":\"white\",\"ticks\":\"\"},\"baxis\":{\"gridcolor\":\"white\",\"linecolor\":\"white\",\"ticks\":\"\"},\"caxis\":{\"gridcolor\":\"white\",\"linecolor\":\"white\",\"ticks\":\"\"}},\"coloraxis\":{\"colorbar\":{\"outlinewidth\":0,\"ticks\":\"\"}},\"colorscale\":{\"sequential\":[[0.0,\"#0d0887\"],[0.1111111111111111,\"#46039f\"],[0.2222222222222222,\"#7201a8\"],[0.3333333333333333,\"#9c179e\"],[0.4444444444444444,\"#bd3786\"],[0.5555555555555556,\"#d8576b\"],[0.6666666666666666,\"#ed7953\"],[0.7777777777777778,\"#fb9f3a\"],[0.8888888888888888,\"#fdca26\"],[1.0,\"#f0f921\"]],\"sequentialminus\":[[0.0,\"#0d0887\"],[0.1111111111111111,\"#46039f\"],[0.2222222222222222,\"#7201a8\"],[0.3333333333333333,\"#9c179e\"],[0.4444444444444444,\"#bd3786\"],[0.5555555555555556,\"#d8576b\"],[0.6666666666666666,\"#ed7953\"],[0.7777777777777778,\"#fb9f3a\"],[0.8888888888888888,\"#fdca26\"],[1.0,\"#f0f921\"]],\"diverging\":[[0,\"#8e0152\"],[0.1,\"#c51b7d\"],[0.2,\"#de77ae\"],[0.3,\"#f1b6da\"],[0.4,\"#fde0ef\"],[0.5,\"#f7f7f7\"],[0.6,\"#e6f5d0\"],[0.7,\"#b8e186\"],[0.8,\"#7fbc41\"],[0.9,\"#4d9221\"],[1,\"#276419\"]]},\"xaxis\":{\"gridcolor\":\"white\",\"linecolor\":\"white\",\"ticks\":\"\",\"title\":{\"standoff\":15},\"zerolinecolor\":\"white\",\"automargin\":true,\"zerolinewidth\":2},\"yaxis\":{\"gridcolor\":\"white\",\"linecolor\":\"white\",\"ticks\":\"\",\"title\":{\"standoff\":15},\"zerolinecolor\":\"white\",\"automargin\":true,\"zerolinewidth\":2},\"scene\":{\"xaxis\":{\"backgroundcolor\":\"#E5ECF6\",\"gridcolor\":\"white\",\"linecolor\":\"white\",\"showbackground\":true,\"ticks\":\"\",\"zerolinecolor\":\"white\",\"gridwidth\":2},\"yaxis\":{\"backgroundcolor\":\"#E5ECF6\",\"gridcolor\":\"white\",\"linecolor\":\"white\",\"showbackground\":true,\"ticks\":\"\",\"zerolinecolor\":\"white\",\"gridwidth\":2},\"zaxis\":{\"backgroundcolor\":\"#E5ECF6\",\"gridcolor\":\"white\",\"linecolor\":\"white\",\"showbackground\":true,\"ticks\":\"\",\"zerolinecolor\":\"white\",\"gridwidth\":2}},\"shapedefaults\":{\"line\":{\"color\":\"#2a3f5f\"}},\"annotationdefaults\":{\"arrowcolor\":\"#2a3f5f\",\"arrowhead\":0,\"arrowwidth\":1},\"geo\":{\"bgcolor\":\"white\",\"landcolor\":\"#E5ECF6\",\"subunitcolor\":\"white\",\"showland\":true,\"showlakes\":true,\"lakecolor\":\"white\"},\"title\":{\"x\":0.05},\"mapbox\":{\"style\":\"light\"}}},\"xaxis\":{\"anchor\":\"y\",\"domain\":[0.0,0.28888888888888886]},\"yaxis\":{\"anchor\":\"x\",\"domain\":[0.0,1.0]},\"xaxis2\":{\"anchor\":\"y2\",\"domain\":[0.3555555555555555,0.6444444444444444]},\"yaxis2\":{\"anchor\":\"x2\",\"domain\":[0.0,1.0],\"matches\":\"y\",\"showticklabels\":false},\"xaxis3\":{\"anchor\":\"y3\",\"domain\":[0.711111111111111,0.9999999999999999]},\"yaxis3\":{\"anchor\":\"x3\",\"domain\":[0.0,1.0],\"matches\":\"y\",\"showticklabels\":false},\"annotations\":[{\"font\":{\"size\":16},\"showarrow\":false,\"text\":\"Correlation Matrix\",\"x\":0.14444444444444443,\"xanchor\":\"center\",\"xref\":\"paper\",\"y\":1.0,\"yanchor\":\"bottom\",\"yref\":\"paper\"},{\"font\":{\"size\":16},\"showarrow\":false,\"text\":\"Covariance Matrix (mu)\",\"x\":0.49999999999999994,\"xanchor\":\"center\",\"xref\":\"paper\",\"y\":1.0,\"yanchor\":\"bottom\",\"yref\":\"paper\"},{\"font\":{\"size\":16},\"showarrow\":false,\"text\":\"Beta Matrix\",\"x\":0.8555555555555554,\"xanchor\":\"center\",\"xref\":\"paper\",\"y\":1.0,\"yanchor\":\"bottom\",\"yref\":\"paper\"}],\"title\":{\"text\":\"Correlation, Covariance (mu), and Beta Matrices\",\"x\":0.5},\"height\":750,\"showlegend\":false},                        {\"responsive\": true}                    ).then(function(){\n",
       "                            \n",
       "var gd = document.getElementById('0e19d32a-fd2b-47dd-905b-af3d45a5c2fa');\n",
       "var x = new MutationObserver(function (mutations, observer) {{\n",
       "        var display = window.getComputedStyle(gd).display;\n",
       "        if (!display || display === 'none') {{\n",
       "            console.log([gd, 'removed!']);\n",
       "            Plotly.purge(gd);\n",
       "            observer.disconnect();\n",
       "        }}\n",
       "}});\n",
       "\n",
       "// Listen for the removal of the full notebook cells\n",
       "var notebookContainer = gd.closest('#notebook-container');\n",
       "if (notebookContainer) {{\n",
       "    x.observe(notebookContainer, {childList: true});\n",
       "}}\n",
       "\n",
       "// Listen for the clearing of the current output cell\n",
       "var outputEl = gd.closest('.output');\n",
       "if (outputEl) {{\n",
       "    x.observe(outputEl, {childList: true});\n",
       "}}\n",
       "\n",
       "                        })                };                });            </script>        </div>"
      ]
     },
     "metadata": {},
     "output_type": "display_data"
    }
   ],
   "source": [
    "# Define a conversion factor for covariance (e.g., multiplying by 1e6 for 'mu' units)\n",
    "covariance_conversion_factor = 1e6  # Adjust this based on what \"mu\" represents\n",
    "\n",
    "# Apply conversion factor to covariance matrix\n",
    "covariance_matrix_mu = covariance_matrix * covariance_conversion_factor\n",
    "\n",
    "# Store matrices in a dictionary for dynamic plotting\n",
    "matrices = {\n",
    "    \"Correlation Matrix\": correlation_matrix,\n",
    "    \"Covariance Matrix (mu)\": covariance_matrix_mu,  # Use converted covariance matrix\n",
    "    \"Beta Matrix\": beta_matrix\n",
    "}\n",
    "\n",
    "num_matrices = len(matrices)  # Adjust based on how many matrices you have\n",
    "\n",
    "# Create subplots dynamically\n",
    "fig = make_subplots(\n",
    "    rows=1, cols=num_matrices,  \n",
    "    subplot_titles=list(matrices.keys()),  # Dynamically set titles\n",
    "    column_widths=[1/num_matrices] * num_matrices,  \n",
    "    shared_yaxes=True,\n",
    "    shared_xaxes=True\n",
    ")\n",
    "\n",
    "# Adjust x positions for colorbars below each heatmap, adding some spacing\n",
    "x_positions = np.linspace(0.15, 0.85, num_matrices)  # Spread them evenly from left to right with spacing\n",
    "\n",
    "# Add each matrix as a heatmap dynamically\n",
    "for i, (title, matrix) in enumerate(matrices.items(), start=1):\n",
    "    fig.add_trace(\n",
    "        go.Heatmap(\n",
    "            z=matrix.values,\n",
    "            x=matrix.columns,\n",
    "            y=matrix.columns,\n",
    "            colorscale=\"RdBu\",\n",
    "            colorbar=dict(\n",
    "                title=title.split()[0],  # Use first word of title (Correlation, Covariance, Beta)\n",
    "                tickvals=[matrix.values.min(), 0, matrix.values.max()],\n",
    "                yanchor=\"top\",\n",
    "                y=-0.25,  # Move colorbar slightly below the heatmap\n",
    "                x=x_positions[i - 1],  # Align it under each respective heatmap with spacing\n",
    "                xanchor=\"center\",\n",
    "                orientation=\"v\"  # Make the colorbar vertical\n",
    "            ),\n",
    "            text=matrix.values.round(2),\n",
    "            texttemplate=\"%{text}\",\n",
    "            showscale=True,\n",
    "            hoverinfo=\"skip\"\n",
    "        ),\n",
    "        row=1, col=i\n",
    "    )\n",
    "\n",
    "# Update layout\n",
    "fig.update_layout(\n",
    "    title=\"Correlation, Covariance (mu), and Beta Matrices\",\n",
    "    height=750,  # Increased height to accommodate vertical legends\n",
    "    showlegend=False,\n",
    "    title_x=0.5\n",
    ")\n",
    "\n",
    "# Show the interactive heatmap\n",
    "fig.show()\n"
   ]
  }
 ],
 "metadata": {
  "kernelspec": {
   "display_name": "Python [conda env:dsi] *",
   "language": "python",
   "name": "conda-env-dsi-py"
  },
  "language_info": {
   "codemirror_mode": {
    "name": "ipython",
    "version": 3
   },
   "file_extension": ".py",
   "mimetype": "text/x-python",
   "name": "python",
   "nbconvert_exporter": "python",
   "pygments_lexer": "ipython3",
   "version": "3.8.16"
  }
 },
 "nbformat": 4,
 "nbformat_minor": 5
}
