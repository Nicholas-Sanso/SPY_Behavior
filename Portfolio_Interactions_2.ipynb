{
 "cells": [
  {
   "cell_type": "markdown",
   "id": "0dbc3421-5ad4-4445-bdb8-001db667b842",
   "metadata": {
    "tags": []
   },
   "source": [
    "# <a id=\"table-of-contents\"></a>Table of Contents\n",
    "\n",
    "1. [Portfolio_marginal_attributes](#section1)\n",
    "2. [Portfolio_attributes](#section2)"
   ]
  },
  {
   "cell_type": "code",
   "execution_count": 1,
   "id": "2fe810a4-6a80-4dbc-809a-ea8daa73e804",
   "metadata": {
    "tags": []
   },
   "outputs": [],
   "source": [
    "import os\n",
    "import pandas as pd\n",
    "import numpy as np\n",
    "import plotly.express as px\n",
    "import plotly.graph_objects as go\n",
    "\n",
    "from plotly.subplots import make_subplots\n",
    "from scipy.stats import trim_mean"
   ]
  },
  {
   "cell_type": "code",
   "execution_count": 2,
   "id": "59dac9db-e876-4ace-8b26-bae849fbcae5",
   "metadata": {},
   "outputs": [],
   "source": [
    "# List portfolio securities here:\n",
    "portfolio_with_candidate = [\"SPY_history.csv\", \"XLU_history.csv\", \"XLF_history.csv\"]\n",
    "portfolio_without_candidate= [\"XLF_history.csv\",\"SPY_history.csv\"]\n",
    "candidate = [\"XLU_history.csv\"]"
   ]
  },
  {
   "cell_type": "code",
   "execution_count": 3,
   "id": "e2fd07e8-d661-4cb4-8ff2-9383c337dff4",
   "metadata": {},
   "outputs": [],
   "source": [
    "def process_portfolio_data(securities_list, trading_folder=\"~/Desktop/Trading\"):\n",
    "    \n",
    "    # Define the Data folder path\n",
    "    data_folder = os.path.join(os.path.expanduser(trading_folder), \"Data\")\n",
    "    \n",
    "    # Initialize an empty list to store the DataFrames\n",
    "    data_frames = []\n",
    "    \n",
    "    # Iterate over the list of security files\n",
    "    for file_name in securities_list:\n",
    "        # Construct the full file path\n",
    "        file_path = os.path.join(data_folder, file_name)\n",
    "        \n",
    "        # Read the CSV file into a DataFrame\n",
    "        data = pd.read_csv(file_path)\n",
    "        \n",
    "        # Convert 'Date' column to datetime format\n",
    "        data['Date'] = pd.to_datetime(data['Date'])\n",
    "        \n",
    "        # Extract security name from file name (e.g., \"SPY\" from \"SPY_history.csv\")\n",
    "        security_name = file_name.split('_')[0]\n",
    "        \n",
    "        # Rename columns to include security name\n",
    "        data = data.add_suffix(f'_{security_name}')\n",
    "        \n",
    "        # Calculate day-over-day price change based on 'Close' column\n",
    "        data[f'Return_{security_name}'] = data[f'Close/Last_{security_name}'].pct_change()\n",
    "        \n",
    "        # Append the DataFrame to the list\n",
    "        data_frames.append(data)\n",
    "    \n",
    "    # Combine all CSV side by side\n",
    "    combined_data = pd.concat(data_frames, axis=1)\n",
    "    \n",
    "    # Calculate the portfolio's daily return (average of all securities' daily returns)\n",
    "    return_columns = [col for col in combined_data.columns if col.startswith(\"Return_\")]\n",
    "    combined_data[\"portfolio_daily_return\"] = combined_data[return_columns].mean(axis=1)\n",
    "    \n",
    "    # Add Original_Index column to capture current index\n",
    "    combined_data['Original_Index'] = combined_data.index\n",
    "    \n",
    "    return combined_data\n",
    "\n",
    "# Add function to sort DataFrame by Original_Index\n",
    "def sort_by_original_index(data):\n",
    "    \"\"\"\n",
    "    Sort the DataFrame by the 'Original_Index' column in descending order.\n",
    "    \n",
    "    Args:\n",
    "        data (pd.DataFrame): The DataFrame to be sorted.\n",
    "        \n",
    "    Returns:\n",
    "        pd.DataFrame: The sorted DataFrame.\n",
    "    \"\"\"\n",
    "    return data.sort_values(by='Original_Index', ascending=False)\n"
   ]
  },
  {
   "cell_type": "code",
   "execution_count": 4,
   "id": "a2e32894-6afe-44c8-8b7d-f85eac4e45eb",
   "metadata": {
    "tags": []
   },
   "outputs": [
    {
     "name": "stdout",
     "output_type": "stream",
     "text": [
      "Portfolio with Candidate:\n",
      "        Date_SPY  Close/Last_SPY  Volume_SPY  Open_SPY  High_SPY  Low_SPY  \\\n",
      "2515 2015-01-26        205.4500    91684840    204.71    205.56   203.85   \n",
      "2514 2015-01-27        202.7400   133590500    202.97    204.12   201.74   \n",
      "2513 2015-01-28        200.1400   167681700    204.17    204.29   199.91   \n",
      "2512 2015-01-29        201.9902   173293000    200.38    202.30   198.68   \n",
      "2511 2015-01-30        199.4500   193789000    200.57    202.17   199.13   \n",
      "\n",
      "      Return_SPY   Date_XLU  Close/Last_XLU  Volume_XLU  ...  Return_XLU  \\\n",
      "2515    0.013367 2015-01-26           49.11     8129107  ...   -0.001423   \n",
      "2514    0.012991 2015-01-27           49.18     8746036  ...    0.008614   \n",
      "2513   -0.009160 2015-01-28           48.76    13694760  ...   -0.013155   \n",
      "2512    0.012736 2015-01-29           49.41    12033220  ...    0.022558   \n",
      "2511   -0.012233 2015-01-30           48.32    14901630  ...   -0.004327   \n",
      "\n",
      "       Date_XLF  Close/Last_XLF  Volume_XLF Open_XLF  High_XLF  Low_XLF  \\\n",
      "2515 2015-01-26         19.5712    22410730  19.4360   19.5794  19.3910   \n",
      "2514 2015-01-27         19.3582    28581910  19.3008   19.4893  19.2845   \n",
      "2513 2015-01-28         19.0059    68755180  19.4565   19.4566  18.9732   \n",
      "2512 2015-01-29         19.1616    40894950  18.9814   19.2025  18.9076   \n",
      "2511 2015-01-30         18.8503    52403520  18.9404   19.1616  18.8421   \n",
      "\n",
      "      Return_XLF  portfolio_daily_return  Original_Index  \n",
      "2515    0.011003                0.007649            2515  \n",
      "2514    0.018536                0.013380            2514  \n",
      "2513   -0.008126               -0.010147            2513  \n",
      "2512    0.016514                0.017269            2512  \n",
      "2511   -0.015825               -0.010795            2511  \n",
      "\n",
      "[5 rows x 23 columns]\n",
      "\n",
      "Portfolio without Candidate:\n",
      "        Date_XLF  Close/Last_XLF  Volume_XLF  Open_XLF  High_XLF  Low_XLF  \\\n",
      "2515 2015-01-26         19.5712    22410730   19.4360   19.5794  19.3910   \n",
      "2514 2015-01-27         19.3582    28581910   19.3008   19.4893  19.2845   \n",
      "2513 2015-01-28         19.0059    68755180   19.4565   19.4566  18.9732   \n",
      "2512 2015-01-29         19.1616    40894950   18.9814   19.2025  18.9076   \n",
      "2511 2015-01-30         18.8503    52403520   18.9404   19.1616  18.8421   \n",
      "\n",
      "      Return_XLF   Date_SPY  Close/Last_SPY  Volume_SPY  Open_SPY  High_SPY  \\\n",
      "2515    0.011003 2015-01-26        205.4500    91684840    204.71    205.56   \n",
      "2514    0.018536 2015-01-27        202.7400   133590500    202.97    204.12   \n",
      "2513   -0.008126 2015-01-28        200.1400   167681700    204.17    204.29   \n",
      "2512    0.016514 2015-01-29        201.9902   173293000    200.38    202.30   \n",
      "2511   -0.015825 2015-01-30        199.4500   193789000    200.57    202.17   \n",
      "\n",
      "      Low_SPY  Return_SPY  portfolio_daily_return  Original_Index  \n",
      "2515   203.85    0.013367                0.012185            2515  \n",
      "2514   201.74    0.012991                0.015764            2514  \n",
      "2513   199.91   -0.009160               -0.008643            2513  \n",
      "2512   198.68    0.012736                0.014625            2512  \n",
      "2511   199.13   -0.012233               -0.014029            2511  \n",
      "\n",
      "Candidate Portfolio:\n",
      "        Date_XLU  Close/Last_XLU  Volume_XLU  Open_XLU  High_XLU  Low_XLU  \\\n",
      "2515 2015-01-26           49.11     8129107     49.10     49.15  48.6600   \n",
      "2514 2015-01-27           49.18     8746036     48.99     49.44  48.8900   \n",
      "2513 2015-01-28           48.76    13694760     49.21     49.78  48.6300   \n",
      "2512 2015-01-29           49.41    12033220     48.64     49.50  48.4801   \n",
      "2511 2015-01-30           48.32    14901630     49.35     49.35  48.2600   \n",
      "\n",
      "      Return_XLU  portfolio_daily_return  Original_Index  \n",
      "2515   -0.001423               -0.001423            2515  \n",
      "2514    0.008614                0.008614            2514  \n",
      "2513   -0.013155               -0.013155            2513  \n",
      "2512    0.022558                0.022558            2512  \n",
      "2511   -0.004327               -0.004327            2511  \n"
     ]
    }
   ],
   "source": [
    "# Process the data for different portfolios\n",
    "combined_data_with_candidate = process_portfolio_data(portfolio_with_candidate)\n",
    "combined_data_without_candidate = process_portfolio_data(portfolio_without_candidate)\n",
    "combined_data_candidate = process_portfolio_data(candidate)\n",
    "\n",
    "# Sort the DataFrames by Original_Index\n",
    "portfolio_with_candidate = sort_by_original_index(combined_data_with_candidate)\n",
    "portfolio_without_candidate = sort_by_original_index(combined_data_without_candidate)\n",
    "candidate = sort_by_original_index(combined_data_candidate)\n",
    "\n",
    "# Display first few rows to verify\n",
    "print(\"Portfolio with Candidate:\\n\", portfolio_with_candidate.head())\n",
    "print(\"\\nPortfolio without Candidate:\\n\", portfolio_without_candidate.head())\n",
    "print(\"\\nCandidate Portfolio:\\n\", candidate.head())"
   ]
  },
  {
   "cell_type": "code",
   "execution_count": 5,
   "id": "129131bf-72bf-4e66-bde3-cbec7b3d7ec5",
   "metadata": {
    "tags": []
   },
   "outputs": [],
   "source": [
    "#  Alternative approach (modifying in place if desired, be cautious with this!):\n",
    "def drop_indices_in_place(df):\n",
    "  if len(df) > 1500:\n",
    "      df.drop(index=df.index[:1500], axis=0, inplace=True)  # Efficient for large DataFrames\n",
    "      df.reset_index(drop=True, inplace=True) # Reset index after dropping\n",
    "  # No return needed as it modifies in place\n",
    "\n",
    "\n",
    "# Example of in-place usage:\n",
    "drop_indices_in_place(portfolio_with_candidate)\n",
    "drop_indices_in_place(portfolio_without_candidate)\n",
    "drop_indices_in_place(candidate)"
   ]
  },
  {
   "cell_type": "markdown",
   "id": "b07fdc36-9323-4046-90fa-295fd55009c0",
   "metadata": {},
   "source": [
    "## <a id=\"section1\"></a> Portfolio_marginal_attributes"
   ]
  },
  {
   "cell_type": "code",
   "execution_count": 6,
   "id": "1f32c63a-d741-4962-8513-13253b084f58",
   "metadata": {
    "tags": []
   },
   "outputs": [],
   "source": [
    "def trimmed_std_dev(data, trim_percent=0.02):\n",
    "    \"\"\"\n",
    "    Calculate the trimmed standard deviation for a portfolio's average daily return.\n",
    "\n",
    "    Parameters:\n",
    "    - data (pd.DataFrame): DataFrame containing daily returns of all securities\n",
    "    - trim_percent (float): Percentage of observations to trim from each end (default 10%)\n",
    "\n",
    "    Returns:\n",
    "    - float: Trimmed standard deviation of the portfolio\n",
    "    \"\"\"\n",
    "    # Select only return columns (avoid including other numerical data)\n",
    "    return_columns = [col for col in data.columns if col.startswith(\"Return_\")]\n",
    "    if not return_columns:\n",
    "        raise ValueError(\"No return columns found in the dataset!\")\n",
    "\n",
    "    # Compute the portfolio's daily return (average of all securities' daily returns)\n",
    "    data[\"portfolio_daily_return\"] = data[return_columns].mean(axis=1)\n",
    "\n",
    "    # Extract the portfolio daily returns as a series\n",
    "    portfolio_returns = data[\"portfolio_daily_return\"].dropna().values\n",
    "\n",
    "    # Trim the extreme observations\n",
    "    trim_count = int(len(portfolio_returns) * trim_percent)\n",
    "    sorted_returns = np.sort(portfolio_returns)\n",
    "    trimmed_returns = sorted_returns[trim_count:-trim_count]  # Trim bottom & top values\n",
    "\n",
    "    # Compute and return standard deviation of the trimmed dataset\n",
    "    return np.std(trimmed_returns, ddof=1)\n"
   ]
  },
  {
   "cell_type": "code",
   "execution_count": 7,
   "id": "55f6fa6f-7d8e-4297-972a-f82018a24103",
   "metadata": {
    "tags": []
   },
   "outputs": [
    {
     "name": "stdout",
     "output_type": "stream",
     "text": [
      "Trimmed Std Dev (Portfolio without Candidate): 0.008740266808113857\n",
      "Trimmed Std Dev (Candidate Security): 0.009446978772188083\n",
      "Trimmed Std Dev (Portfolio with Candidate): 0.007784708045209008\n"
     ]
    }
   ],
   "source": [
    "# Compute trimmed standard deviations\n",
    "trimmed_std_portfolio_without_candidate = trimmed_std_dev(portfolio_without_candidate, trim_percent=0.02)\n",
    "trimmed_std_portfolio_with_candidate = trimmed_std_dev(portfolio_with_candidate, trim_percent=0.02)\n",
    "trimmed_std_candidate = trimmed_std_dev(candidate, trim_percent=0.02)\n",
    "\n",
    "# Print results\n",
    "print(\"Trimmed Std Dev (Portfolio without Candidate):\", trimmed_std_portfolio_without_candidate)\n",
    "print(\"Trimmed Std Dev (Candidate Security):\", trimmed_std_candidate)\n",
    "print(\"Trimmed Std Dev (Portfolio with Candidate):\", trimmed_std_portfolio_with_candidate)"
   ]
  },
  {
   "cell_type": "code",
   "execution_count": 8,
   "id": "dd344087-7377-4f38-a36d-034d8055c877",
   "metadata": {
    "tags": []
   },
   "outputs": [],
   "source": [
    "def gini_mean_difference(data, column):\n",
    "    \"\"\"\n",
    "    Calculate the Gini mean difference for a specified column in a DataFrame.\n",
    "    \n",
    "    Args:\n",
    "        data (pd.DataFrame): The DataFrame containing the data.\n",
    "        column (str): The column name for which to calculate the Gini mean difference.\n",
    "        \n",
    "    Returns:\n",
    "        float: The Gini mean difference.\n",
    "    \"\"\"\n",
    "    # Extract the specified column values\n",
    "    values = data[column].dropna().values\n",
    "    \n",
    "    # Calculate the absolute differences between all pairs of elements\n",
    "    diff_matrix = np.abs(np.subtract.outer(values, values))\n",
    "    \n",
    "    # Calculate the mean of the absolute differences\n",
    "    gini_mean_diff = np.mean(diff_matrix)\n",
    "    \n",
    "    return gini_mean_diff\n",
    "\n",
    "\n"
   ]
  },
  {
   "cell_type": "code",
   "execution_count": 4,
   "id": "04d27953-9d4d-457b-bd79-3911cbb2d5c3",
   "metadata": {
    "tags": []
   },
   "outputs": [
    {
     "ename": "NameError",
     "evalue": "name 'portfolio_with_candidate' is not defined",
     "output_type": "error",
     "traceback": [
      "\u001b[0;31m---------------------------------------------------------------------------\u001b[0m",
      "\u001b[0;31mNameError\u001b[0m                                 Traceback (most recent call last)",
      "Cell \u001b[0;32mIn[4], line 1\u001b[0m\n\u001b[0;32m----> 1\u001b[0m \u001b[43mportfolio_with_candidate\u001b[49m\u001b[38;5;241m.\u001b[39mcolumns\n\u001b[1;32m      2\u001b[0m portfolio_without_candidate\u001b[38;5;241m.\u001b[39mcolumns\n\u001b[1;32m      3\u001b[0m candidate\u001b[38;5;241m.\u001b[39mcolumns\n",
      "\u001b[0;31mNameError\u001b[0m: name 'portfolio_with_candidate' is not defined"
     ]
    }
   ],
   "source": [
    "portfolio_with_candidate.columns\n",
    "portfolio_without_candidate.columns\n",
    "candidate.columns"
   ]
  },
  {
   "cell_type": "code",
   "execution_count": 9,
   "id": "b3e05d77-931a-4c84-9de3-a3db4e0480aa",
   "metadata": {
    "tags": []
   },
   "outputs": [
    {
     "ename": "NameError",
     "evalue": "name 'portfolio_daily_return' is not defined",
     "output_type": "error",
     "traceback": [
      "\u001b[0;31m---------------------------------------------------------------------------\u001b[0m",
      "\u001b[0;31mNameError\u001b[0m                                 Traceback (most recent call last)",
      "Cell \u001b[0;32mIn[9], line 7\u001b[0m\n\u001b[1;32m      3\u001b[0m gini_diff_SPY \u001b[38;5;241m=\u001b[39m gini_mean_difference(portfolio_with_candidate, \u001b[38;5;124m'\u001b[39m\u001b[38;5;124mportfolio_daily_return\u001b[39m\u001b[38;5;124m'\u001b[39m)\n\u001b[1;32m      4\u001b[0m gini_diff_SPY \u001b[38;5;241m=\u001b[39m gini_mean_difference(candidate, \u001b[38;5;124m'\u001b[39m\u001b[38;5;124mportfolio_daily_return\u001b[39m\u001b[38;5;124m'\u001b[39m)\n\u001b[0;32m----> 7\u001b[0m \u001b[38;5;28mprint\u001b[39m(\u001b[38;5;124mf\u001b[39m\u001b[38;5;124m'\u001b[39m\u001b[38;5;124mGini Mean Difference for SPY: \u001b[39m\u001b[38;5;132;01m{\u001b[39;00mportfolio_daily_return\u001b[38;5;132;01m}\u001b[39;00m\u001b[38;5;124m'\u001b[39m)\n\u001b[1;32m      8\u001b[0m \u001b[38;5;28mprint\u001b[39m(\u001b[38;5;124mf\u001b[39m\u001b[38;5;124m'\u001b[39m\u001b[38;5;124mGini Mean Difference for SPY: \u001b[39m\u001b[38;5;132;01m{\u001b[39;00mportfolio_daily_return\u001b[38;5;132;01m}\u001b[39;00m\u001b[38;5;124m'\u001b[39m)\n\u001b[1;32m      9\u001b[0m \u001b[38;5;28mprint\u001b[39m(\u001b[38;5;124mf\u001b[39m\u001b[38;5;124m'\u001b[39m\u001b[38;5;124mGini Mean Difference for SPY: \u001b[39m\u001b[38;5;132;01m{\u001b[39;00mportfolio_daily_return\u001b[38;5;132;01m}\u001b[39;00m\u001b[38;5;124m'\u001b[39m)\n",
      "\u001b[0;31mNameError\u001b[0m: name 'portfolio_daily_return' is not defined"
     ]
    }
   ],
   "source": [
    "# Example usage:\n",
    "gini_diff_SPY = gini_mean_difference(portfolio_without_candidate, 'portfolio_daily_return')\n",
    "gini_diff_SPY = gini_mean_difference(portfolio_with_candidate, 'portfolio_daily_return')\n",
    "gini_diff_SPY = gini_mean_difference(candidate, 'portfolio_daily_return')\n",
    "\n",
    "\n",
    "print(f'Gini Mean Difference for SPY: {portfolio_daily_return}')\n",
    "print(f'Gini Mean Difference for SPY: {portfolio_daily_return}')\n",
    "print(f'Gini Mean Difference for SPY: {portfolio_daily_return}')"
   ]
  },
  {
   "cell_type": "markdown",
   "id": "819fb35d-d136-454e-9d56-44b0d3e34b84",
   "metadata": {
    "tags": []
   },
   "source": [
    "## <a id=\"section2\"></a> Portfolio_attributes"
   ]
  },
  {
   "cell_type": "code",
   "execution_count": 10,
   "id": "fdc161c7-ac90-48a5-aae2-b1f4e2a01604",
   "metadata": {},
   "outputs": [
    {
     "ename": "NameError",
     "evalue": "name 'combined_data' is not defined",
     "output_type": "error",
     "traceback": [
      "\u001b[0;31m---------------------------------------------------------------------------\u001b[0m",
      "\u001b[0;31mNameError\u001b[0m                                 Traceback (most recent call last)",
      "Cell \u001b[0;32mIn[10], line 2\u001b[0m\n\u001b[1;32m      1\u001b[0m \u001b[38;5;66;03m# Select only the \"Close/Last_\" columns\u001b[39;00m\n\u001b[0;32m----> 2\u001b[0m close_columns \u001b[38;5;241m=\u001b[39m [col \u001b[38;5;28;01mfor\u001b[39;00m col \u001b[38;5;129;01min\u001b[39;00m \u001b[43mcombined_data\u001b[49m\u001b[38;5;241m.\u001b[39mcolumns \u001b[38;5;28;01mif\u001b[39;00m col\u001b[38;5;241m.\u001b[39mstartswith(\u001b[38;5;124m'\u001b[39m\u001b[38;5;124mClose/Last_\u001b[39m\u001b[38;5;124m'\u001b[39m)]\n\u001b[1;32m      4\u001b[0m \u001b[38;5;66;03m# Calculate daily percentage returns\u001b[39;00m\n\u001b[1;32m      5\u001b[0m returns \u001b[38;5;241m=\u001b[39m combined_data[close_columns]\u001b[38;5;241m.\u001b[39mpct_change()\n",
      "\u001b[0;31mNameError\u001b[0m: name 'combined_data' is not defined"
     ]
    }
   ],
   "source": [
    "# Select only the \"Close/Last_\" columns\n",
    "close_columns = [col for col in combined_data.columns if col.startswith('Close/Last_')]\n",
    "\n",
    "# Calculate daily percentage returns\n",
    "returns = combined_data[close_columns].pct_change()\n",
    "\n",
    "# Drop NaN values (from the first row caused by pct_change)\n",
    "returns = returns.dropna()\n",
    "\n",
    "# 1. Correlation Matrix\n",
    "correlation_matrix = returns.corr()\n",
    "\n",
    "# 2. Covariance Matrix\n",
    "covariance_matrix = returns.cov()\n",
    "\n",
    "# 3. Beta Matrix - Adjust to have the same shape as correlation and covariance matrices\n",
    "benchmark = close_columns[0]\n",
    "betas = {}\n",
    "\n",
    "# Initialize beta_matrix with NaN values to match the size of the correlation and covariance matrices\n",
    "beta_matrix = pd.DataFrame(np.nan, index=close_columns, columns=close_columns)\n",
    "\n",
    "for col in close_columns:\n",
    "    for row in close_columns:\n",
    "        if col == row:\n",
    "            beta_matrix.loc[row, col] = 1\n",
    "        else:\n",
    "            beta = covariance_matrix.loc[col, benchmark] / covariance_matrix.loc[benchmark, benchmark] \n",
    "            beta_matrix.loc[col, benchmark] = beta"
   ]
  },
  {
   "cell_type": "code",
   "execution_count": 11,
   "id": "a27ffb56-cecf-481a-8488-a03536f3211c",
   "metadata": {
    "tags": []
   },
   "outputs": [
    {
     "ename": "NameError",
     "evalue": "name 'covariance_matrix' is not defined",
     "output_type": "error",
     "traceback": [
      "\u001b[0;31m---------------------------------------------------------------------------\u001b[0m",
      "\u001b[0;31mNameError\u001b[0m                                 Traceback (most recent call last)",
      "Cell \u001b[0;32mIn[11], line 5\u001b[0m\n\u001b[1;32m      2\u001b[0m covariance_conversion_factor \u001b[38;5;241m=\u001b[39m \u001b[38;5;241m1e6\u001b[39m  \u001b[38;5;66;03m# Adjust this based on what \"mu\" represents\u001b[39;00m\n\u001b[1;32m      4\u001b[0m \u001b[38;5;66;03m# Apply conversion factor to covariance matrix\u001b[39;00m\n\u001b[0;32m----> 5\u001b[0m covariance_matrix_mu \u001b[38;5;241m=\u001b[39m \u001b[43mcovariance_matrix\u001b[49m \u001b[38;5;241m*\u001b[39m covariance_conversion_factor\n\u001b[1;32m      7\u001b[0m \u001b[38;5;66;03m# Store matrices in a dictionary for dynamic plotting\u001b[39;00m\n\u001b[1;32m      8\u001b[0m matrices \u001b[38;5;241m=\u001b[39m {\n\u001b[1;32m      9\u001b[0m     \u001b[38;5;124m\"\u001b[39m\u001b[38;5;124mCorrelation Matrix\u001b[39m\u001b[38;5;124m\"\u001b[39m: correlation_matrix,\n\u001b[1;32m     10\u001b[0m     \u001b[38;5;124m\"\u001b[39m\u001b[38;5;124mCovariance Matrix (mu)\u001b[39m\u001b[38;5;124m\"\u001b[39m: covariance_matrix_mu,  \u001b[38;5;66;03m# Use converted covariance matrix\u001b[39;00m\n\u001b[1;32m     11\u001b[0m     \u001b[38;5;124m\"\u001b[39m\u001b[38;5;124mBeta Matrix\u001b[39m\u001b[38;5;124m\"\u001b[39m: beta_matrix\n\u001b[1;32m     12\u001b[0m }\n",
      "\u001b[0;31mNameError\u001b[0m: name 'covariance_matrix' is not defined"
     ]
    }
   ],
   "source": [
    "# Define a conversion factor for covariance (e.g., multiplying by 1e6 for 'mu' units)\n",
    "covariance_conversion_factor = 1e6  # Adjust this based on what \"mu\" represents\n",
    "\n",
    "# Apply conversion factor to covariance matrix\n",
    "covariance_matrix_mu = covariance_matrix * covariance_conversion_factor\n",
    "\n",
    "# Store matrices in a dictionary for dynamic plotting\n",
    "matrices = {\n",
    "    \"Correlation Matrix\": correlation_matrix,\n",
    "    \"Covariance Matrix (mu)\": covariance_matrix_mu,  # Use converted covariance matrix\n",
    "    \"Beta Matrix\": beta_matrix\n",
    "}\n",
    "\n",
    "num_matrices = len(matrices)  # Adjust based on how many matrices you have\n",
    "\n",
    "# Create subplots dynamically\n",
    "fig = make_subplots(\n",
    "    rows=1, cols=num_matrices,  \n",
    "    subplot_titles=list(matrices.keys()),  # Dynamically set titles\n",
    "    column_widths=[1/num_matrices] * num_matrices,  \n",
    "    shared_yaxes=True,\n",
    "    shared_xaxes=True\n",
    ")\n",
    "\n",
    "# Adjust x positions for colorbars below each heatmap, adding some spacing\n",
    "x_positions = np.linspace(0.15, 0.85, num_matrices)  # Spread them evenly from left to right with spacing\n",
    "\n",
    "# Add each matrix as a heatmap dynamically\n",
    "for i, (title, matrix) in enumerate(matrices.items(), start=1):\n",
    "    fig.add_trace(\n",
    "        go.Heatmap(\n",
    "            z=matrix.values,\n",
    "            x=matrix.columns,\n",
    "            y=matrix.columns,\n",
    "            colorscale=\"RdBu\",\n",
    "            colorbar=dict(\n",
    "                title=title.split()[0],  # Use first word of title (Correlation, Covariance, Beta)\n",
    "                tickvals=[matrix.values.min(), 0, matrix.values.max()],\n",
    "                yanchor=\"top\",\n",
    "                y=-0.25,  # Move colorbar slightly below the heatmap\n",
    "                x=x_positions[i - 1],  # Align it under each respective heatmap with spacing\n",
    "                xanchor=\"center\",\n",
    "                orientation=\"v\"  # Make the colorbar vertical\n",
    "            ),\n",
    "            text=matrix.values.round(2),\n",
    "            texttemplate=\"%{text}\",\n",
    "            showscale=True,\n",
    "            hoverinfo=\"skip\"\n",
    "        ),\n",
    "        row=1, col=i\n",
    "    )\n",
    "\n",
    "# Update layout\n",
    "fig.update_layout(\n",
    "    title=\"Correlation, Covariance (mu), and Beta Matrices\",\n",
    "    height=750,  # Increased height to accommodate vertical legends\n",
    "    showlegend=False,\n",
    "    title_x=0.5\n",
    ")\n",
    "\n",
    "# Show the interactive heatmap\n",
    "fig.show()\n"
   ]
  },
  {
   "cell_type": "code",
   "execution_count": null,
   "id": "2b625831-af31-49e3-bb33-27fd105cddd7",
   "metadata": {},
   "outputs": [],
   "source": []
  },
  {
   "cell_type": "code",
   "execution_count": null,
   "id": "aef7fc9a-bc4a-44af-b11b-57c8170876d5",
   "metadata": {},
   "outputs": [],
   "source": []
  }
 ],
 "metadata": {
  "kernelspec": {
   "display_name": "Python [conda env:dsi] *",
   "language": "python",
   "name": "conda-env-dsi-py"
  },
  "language_info": {
   "codemirror_mode": {
    "name": "ipython",
    "version": 3
   },
   "file_extension": ".py",
   "mimetype": "text/x-python",
   "name": "python",
   "nbconvert_exporter": "python",
   "pygments_lexer": "ipython3",
   "version": "3.8.16"
  }
 },
 "nbformat": 4,
 "nbformat_minor": 5
}
