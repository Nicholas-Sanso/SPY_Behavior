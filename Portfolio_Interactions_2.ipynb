{
 "cells": [
  {
   "cell_type": "markdown",
   "id": "0dbc3421-5ad4-4445-bdb8-001db667b842",
   "metadata": {
    "tags": []
   },
   "source": [
    "# <a id=\"table-of-contents\"></a>Table of Contents\n",
    "\n",
    "1. [Portfolio_marginal_attributes](#portfolio_marginal_attributes)\n",
    "2. [Portfolio_attributes](#portfolio_attributes)\n",
    "\n",
    "---"
   ]
  },
  {
   "cell_type": "code",
   "execution_count": 1,
   "id": "2fe810a4-6a80-4dbc-809a-ea8daa73e804",
   "metadata": {
    "tags": []
   },
   "outputs": [],
   "source": [
    "import os\n",
    "import pandas as pd\n",
    "import numpy as np\n",
    "import plotly.express as px\n",
    "import plotly.graph_objects as go\n",
    "import seaborn as sns\n",
    "import matplotlib.pyplot as plt\n",
    "\n",
    "\n",
    "from plotly.subplots import make_subplots\n",
    "from scipy.stats import trim_mean\n",
    "from scipy.stats import kurtosis, skew"
   ]
  },
  {
   "cell_type": "code",
   "execution_count": 2,
   "id": "746d5b24-ce76-4457-aeff-a966bf8fb1cf",
   "metadata": {},
   "outputs": [],
   "source": [
    "# MANUAL INPUTS\n",
    "\n",
    "#List portfolio securities here:\n",
    "portfolio_with_candidate = [\"SPY_history.csv\", \"XLU_history.csv\", \"XLF_history.csv\"]\n",
    "portfolio_without_candidate= [\"XLF_history.csv\",\"SPY_history.csv\"]\n",
    "candidate = [\"XLU_history.csv\"]\n",
    "\n",
    "# Define weights_with_candidate (make sure the keys match the column names):\n",
    "weights_with_candidate = {\n",
    "    'Return_SPY': 0.3,  # 50% weight to SPY\n",
    "    'Return_XLU': 0.5,  # 30% weight to XLU\n",
    "    'Return_XLF': 0.2   # 20% weight to XLF\n",
    "}\n",
    "\n",
    "observations_to_keep= 1500"
   ]
  },
  {
   "cell_type": "code",
   "execution_count": 3,
   "id": "e2fd07e8-d661-4cb4-8ff2-9383c337dff4",
   "metadata": {},
   "outputs": [],
   "source": [
    "def process_portfolio_data(portfolio_with_candidate):\n",
    "    # Define the Data folder path\n",
    "    data_folder = os.path.join(os.path.expanduser(\"~/Desktop/Trading\"), \"Data\")\n",
    "    \n",
    "    # Initialize an empty list to store the DataFrames\n",
    "    data_frames = []\n",
    "    \n",
    "    # Iterate over the list of security files\n",
    "    for file_name in portfolio_with_candidate:\n",
    "        # Construct the full file path\n",
    "        file_path = os.path.join(data_folder, file_name)\n",
    "        \n",
    "        # Read the CSV file into a DataFrame\n",
    "        data = pd.read_csv(file_path)\n",
    "        \n",
    "        # Convert 'Date' column to datetime format\n",
    "        data['Date'] = pd.to_datetime(data['Date'])\n",
    "        \n",
    "        # Extract security name from file name (e.g., \"SPY\" from \"SPY_history.csv\")\n",
    "        security_name = file_name.split('_')[0]\n",
    "        \n",
    "        # Rename columns to include security name\n",
    "        data = data.add_suffix(f'_{security_name}')\n",
    "        \n",
    "        # Calculate day-over-day price change based on 'Close' column\n",
    "        data[f'Return_{security_name}'] = data[f'Close/Last_{security_name}'].pct_change()\n",
    "        \n",
    "        # Append the DataFrame to the list\n",
    "        data_frames.append(data)\n",
    "    \n",
    "    # Combine all CSV side by side\n",
    "    combined_data = pd.concat(data_frames, axis=1)\n",
    "    \n",
    "    # Calculate the portfolio's daily return (average of all securities' daily returns)\n",
    "    return_columns = [col for col in combined_data.columns if col.startswith(\"Return_\")]\n",
    "    combined_data[\"portfolio_daily_return\"] = combined_data[return_columns].mean(axis=1)\n",
    "    \n",
    "    # Add Original_Index column to capture current index\n",
    "    combined_data['Original_Index'] = combined_data.index\n",
    "    \n",
    "    return combined_data"
   ]
  },
  {
   "cell_type": "code",
   "execution_count": 4,
   "id": "cd0d11c3-392c-448a-9f4b-a6224ce27a40",
   "metadata": {},
   "outputs": [],
   "source": [
    "# Process the data for different portfolios\n",
    "data_with_candidate_combined = process_portfolio_data(portfolio_with_candidate)\n",
    "data_without_candidate_combined = process_portfolio_data(portfolio_without_candidate)\n",
    "data_candidate_combined = process_portfolio_data(candidate)"
   ]
  },
  {
   "cell_type": "code",
   "execution_count": 5,
   "id": "a2e32894-6afe-44c8-8b7d-f85eac4e45eb",
   "metadata": {
    "tags": []
   },
   "outputs": [],
   "source": [
    "# Add function to sort DataFrame by Original_Index\n",
    "def sort_by_original_index(data):\n",
    "    return data.sort_values(by='Original_Index', ascending=False)\n",
    "\n",
    "# Sort the DataFrames by Original_Index\n",
    "portfolio_with_candidate = sort_by_original_index(data_with_candidate_combined)\n",
    "portfolio_without_candidate = sort_by_original_index(data_without_candidate_combined)\n",
    "candidate = sort_by_original_index(data_candidate_combined)"
   ]
  },
  {
   "cell_type": "code",
   "execution_count": 6,
   "id": "129131bf-72bf-4e66-bde3-cbec7b3d7ec5",
   "metadata": {
    "tags": []
   },
   "outputs": [],
   "source": [
    "#  Alternative approach (modifying in place if desired, be cautious with this!):\n",
    "def drop_indices_in_place(df):\n",
    "  if len(df) > observations_to_keep:\n",
    "      df.drop(index=df.index[:observations_to_keep], axis=0, inplace=True)  # Efficient for large DataFrames\n",
    "      df.reset_index(drop=True, inplace=True) # Reset index after dropping\n",
    "# No return needed as it modifies in place\n",
    "\n",
    "\n",
    "# Example of in-place usage:\n",
    "drop_indices_in_place(portfolio_with_candidate)\n",
    "drop_indices_in_place(portfolio_without_candidate)\n",
    "drop_indices_in_place(candidate)"
   ]
  },
  {
   "cell_type": "raw",
   "id": "8ea30b68-de81-41c7-ae2e-aeecdf938883",
   "metadata": {},
   "source": [
    "STATIONARITY CONCERNS FOR ALL OF THESE METRICS!"
   ]
  },
  {
   "cell_type": "markdown",
   "id": "b07fdc36-9323-4046-90fa-295fd55009c0",
   "metadata": {},
   "source": [
    "## Portfolio_marginal_attributes <a id=\"portfolio_marginal_attributes\"></a>\n",
    "\n",
    "[Back to Table of Contents](#table-of-contents)"
   ]
  },
  {
   "cell_type": "code",
   "execution_count": 7,
   "id": "6c02ca1f-6458-4b1a-99f7-7f1172a286e9",
   "metadata": {
    "tags": []
   },
   "outputs": [],
   "source": [
    "def calculate_weighted_metrics(df, weights):\n",
    "    \n",
    "    # Filter weights to only include columns that exist in the subset of securities (df.columns)\n",
    "    valid_weights = {col: weight for col, weight in weights.items() if col in df.columns}\n",
    "    \n",
    "    # Normalize the weights to ensure the total weight equals 1\n",
    "    total_weight = sum(valid_weights.values())\n",
    "    normalized_weights = {col: weight / total_weight for col, weight in valid_weights.items()}\n",
    "\n",
    "    # Initialize weighted skewness and kurtosis\n",
    "    weighted_skew = 0\n",
    "    weighted_kurtosis = 0\n",
    "\n",
    "    # Loop through each valid column and calculate skewness and kurtosis\n",
    "    for column_name, weight in normalized_weights.items():\n",
    "        data = df[column_name].dropna()  # Drop NaNs from the column\n",
    "        \n",
    "        # Calculate individual skewness and kurtosis\n",
    "        skewness = skew(data)\n",
    "        kurt = kurtosis(data)\n",
    "\n",
    "        # Apply weights to the metrics\n",
    "        weighted_skew += skewness * weight\n",
    "        weighted_kurtosis += kurt * weight\n",
    "\n",
    "    return {\n",
    "        'portfolio_weighted_skew': weighted_skew,\n",
    "        'portfolio_weighted_kurtosis': weighted_kurtosis,\n",
    "        'normalized_weights': normalized_weights  # Return updated weights for the subset\n",
    "    }"
   ]
  },
  {
   "cell_type": "code",
   "execution_count": 18,
   "id": "5a485ec5-7b9b-472c-ae23-f8dce7346fdc",
   "metadata": {
    "tags": []
   },
   "outputs": [
    {
     "name": "stdout",
     "output_type": "stream",
     "text": [
      "{'portfolio_weighted_skew': 0.8085280874340329, 'portfolio_weighted_kurtosis': 15.627860449017438, 'normalized_weights': {'Return_SPY': 0.3, 'Return_XLU': 0.5, 'Return_XLF': 0.2}}\n",
      "{'portfolio_weighted_skew': 1.0093302801348536, 'portfolio_weighted_kurtosis': 15.530671908266383, 'normalized_weights': {'Return_SPY': 0.6, 'Return_XLF': 0.4}}\n",
      "{'portfolio_weighted_skew': 0.6077258947332123, 'portfolio_weighted_kurtosis': 15.725048989768496, 'normalized_weights': {'Return_XLU': 1.0}}\n"
     ]
    }
   ],
   "source": [
    "print(calculate_weighted_metrics(data_with_candidate_combined, weights_with_candidate)) \n",
    "print(calculate_weighted_metrics(data_without_candidate_combined, weights_with_candidate)) \n",
    "print(calculate_weighted_metrics(data_candidate_combined, weights_with_candidate))"
   ]
  },
  {
   "cell_type": "code",
   "execution_count": 23,
   "id": "26a5e7fd-5249-41b0-805d-4f763e45804a",
   "metadata": {
    "tags": []
   },
   "outputs": [],
   "source": [
    "def plot_kurtosis_skew_overlay(df1, df2, df3, column_name, labels):\n",
    "    \"\"\"\n",
    "    Calculates kurtosis and skew for three DataFrames and overlays their histograms.\n",
    "\n",
    "    Args:\n",
    "        df1, df2, df3 (pd.DataFrame): The three DataFrames to compare.\n",
    "        column_name (str): The column name to analyze and plot.\n",
    "        labels (list): A list of three labels corresponding to the DataFrames.\n",
    "\n",
    "    Returns:\n",
    "        dict: A dictionary with kurtosis and skew for all three DataFrames.\n",
    "    \"\"\"\n",
    "    results = {}\n",
    "\n",
    "    # Calculate kurtosis and skew for all three DataFrames\n",
    "    try:\n",
    "        for df, label in zip([df1, df2, df3], labels):\n",
    "            if column_name in df.columns:\n",
    "                data = df[column_name].dropna()\n",
    "                if len(data) < 2:\n",
    "                    print(f\"Warning: Not enough data in '{column_name}' for {label}. Skipping.\")\n",
    "                    continue\n",
    "\n",
    "                # Calculate kurtosis and skew\n",
    "                k = kurtosis(data)\n",
    "                s = skew(data)\n",
    "\n",
    "                results[label] = {'kurtosis': k, 'skew': s}\n",
    "            else:\n",
    "                print(f\"Warning: '{column_name}' not found in {label}. Skipping.\")\n",
    "\n",
    "        # Plot overlapping histograms\n",
    "        plt.figure(figsize=(10, 6))\n",
    "        for df, label, color in zip([df1, df2, df3], labels, ['skyblue', 'lightcoral', 'lightgreen']):\n",
    "            if column_name in df.columns:\n",
    "                data = df[column_name].dropna()\n",
    "                plt.hist(data, bins=40, alpha=0.5, label=f\"{label}\", color=color, edgecolor='black', linewidth=1.0)\n",
    "\n",
    "        plt.title(f'Distribution of {column_name}')\n",
    "        plt.xlabel(column_name)\n",
    "        plt.ylabel('Frequency')\n",
    "        plt.legend()\n",
    "        plt.grid(True)\n",
    "        plt.show()\n",
    "\n",
    "    except Exception as e:\n",
    "        print(f\"An unexpected error occurred: {e}\")\n",
    "    \n",
    "    return results"
   ]
  },
  {
   "cell_type": "code",
   "execution_count": 24,
   "id": "f40c5c5b-1ebd-494b-9dae-8f62d2b3d14a",
   "metadata": {
    "tags": []
   },
   "outputs": [
    {
     "ename": "NameError",
     "evalue": "name 'column_name' is not defined",
     "output_type": "error",
     "traceback": [
      "\u001b[0;31m---------------------------------------------------------------------------\u001b[0m",
      "\u001b[0;31mNameError\u001b[0m                                 Traceback (most recent call last)",
      "Cell \u001b[0;32mIn[24], line 1\u001b[0m\n\u001b[0;32m----> 1\u001b[0m plot_kurtosis_skew_overlay(data_with_candidate_combined,data_without_candidate_combined,data_candidate_combined,\u001b[43mcolumn_name\u001b[49m, labels)\n",
      "\u001b[0;31mNameError\u001b[0m: name 'column_name' is not defined"
     ]
    }
   ],
   "source": [
    "plot_kurtosis_skew_overlay(data_with_candidate_combined,data_without_candidate_combined,data_candidate_combined,column_name, labels)"
   ]
  },
  {
   "cell_type": "code",
   "execution_count": 25,
   "id": "216eb080-09ff-49b2-a7d3-19e3c8fc6df8",
   "metadata": {
    "tags": []
   },
   "outputs": [
    {
     "name": "stdout",
     "output_type": "stream",
     "text": [
      "An unexpected error occurred: name 'plt' is not defined\n",
      "With Candidate:\n",
      "  Kurtosis = 1.8196, Skew = 0.2173\n",
      "Without Candidate:\n",
      "  Kurtosis = 1.7199, Skew = 0.2044\n",
      "Candidate Only:\n",
      "  Kurtosis = 1.2130, Skew = 0.2781\n"
     ]
    }
   ],
   "source": [
    "# Analyze portfolio_daily_return across all three scenarios\n",
    "column_to_analyze = 'portfolio_daily_return'\n",
    "\n",
    "# Define labels for the three DataFrames\n",
    "labels = [\"With Candidate\", \"Without Candidate\", \"Candidate Only\"]\n",
    "\n",
    "# Call the function\n",
    "results = plot_kurtosis_skew_overlay(\n",
    "    portfolio_with_candidate, \n",
    "    portfolio_without_candidate, \n",
    "    candidate, \n",
    "    column_to_analyze,\n",
    "    labels\n",
    ")\n",
    "\n",
    "# Print the results\n",
    "for label, stats in results.items():\n",
    "    print(f\"{label}:\")\n",
    "    print(f\"  Kurtosis = {stats['kurtosis']:.4f}, Skew = {stats['skew']:.4f}\")\n"
   ]
  },
  {
   "cell_type": "code",
   "execution_count": 11,
   "id": "1f32c63a-d741-4962-8513-13253b084f58",
   "metadata": {
    "tags": []
   },
   "outputs": [],
   "source": [
    "def trimmed_std_dev(data, trim_percent=0.02):\n",
    "    \"\"\"\n",
    "    Calculate the trimmed standard deviation for a portfolio's average daily return.\n",
    "\n",
    "    Parameters:\n",
    "    - data (pd.DataFrame): DataFrame containing daily returns of all securities\n",
    "    - trim_percent (float): Percentage of observations to trim from each end (default 10%)\n",
    "\n",
    "    Returns:\n",
    "    - float: Trimmed standard deviation of the portfolio\n",
    "    \"\"\"\n",
    "    # Select only return columns (avoid including other numerical data)\n",
    "    return_columns = [col for col in data.columns if col.startswith(\"Return_\")]\n",
    "    if not return_columns:\n",
    "        raise ValueError(\"No return columns found in the dataset!\")\n",
    "\n",
    "    # Compute the portfolio's daily return (average of all securities' daily returns)\n",
    "    data[\"portfolio_daily_return\"] = data[return_columns].mean(axis=1)\n",
    "\n",
    "    # Extract the portfolio daily returns as a series\n",
    "    portfolio_returns = data[\"portfolio_daily_return\"].dropna().values\n",
    "\n",
    "    # Trim the extreme observations\n",
    "    trim_count = int(len(portfolio_returns) * trim_percent)\n",
    "    sorted_returns = np.sort(portfolio_returns)\n",
    "    trimmed_returns = sorted_returns[trim_count:-trim_count]  # Trim bottom & top values\n",
    "\n",
    "    # Compute and return standard deviation of the trimmed dataset\n",
    "    return np.std(trimmed_returns, ddof=1)\n"
   ]
  },
  {
   "cell_type": "code",
   "execution_count": 12,
   "id": "55f6fa6f-7d8e-4297-972a-f82018a24103",
   "metadata": {
    "tags": []
   },
   "outputs": [
    {
     "name": "stdout",
     "output_type": "stream",
     "text": [
      "Trimmed Std Dev (Portfolio without Candidate): 0.008740266808113857\n",
      "Trimmed Std Dev (Candidate Security): 0.009446978772188083\n",
      "Trimmed Std Dev (Portfolio with Candidate): 0.007784708045209008\n"
     ]
    }
   ],
   "source": [
    "# Compute trimmed standard deviations\n",
    "trimmed_std_portfolio_without_candidate = trimmed_std_dev(portfolio_without_candidate, trim_percent=0.02)\n",
    "trimmed_std_portfolio_with_candidate = trimmed_std_dev(portfolio_with_candidate, trim_percent=0.02)\n",
    "trimmed_std_candidate = trimmed_std_dev(candidate, trim_percent=0.02)\n",
    "\n",
    "# Print results\n",
    "print(\"Trimmed Std Dev (Portfolio without Candidate):\", trimmed_std_portfolio_without_candidate)\n",
    "print(\"Trimmed Std Dev (Candidate Security):\", trimmed_std_candidate)\n",
    "print(\"Trimmed Std Dev (Portfolio with Candidate):\", trimmed_std_portfolio_with_candidate)"
   ]
  },
  {
   "cell_type": "code",
   "execution_count": 13,
   "id": "dd344087-7377-4f38-a36d-034d8055c877",
   "metadata": {
    "tags": []
   },
   "outputs": [],
   "source": [
    "def gini_mean_difference(data, column):\n",
    "    \"\"\"\n",
    "    Calculate the Gini mean difference for a specified column in a DataFrame.\n",
    "    \n",
    "    Args:\n",
    "        data (pd.DataFrame): The DataFrame containing the data.\n",
    "        column (str): The column name for which to calculate the Gini mean difference.\n",
    "        \n",
    "    Returns:\n",
    "        float: The Gini mean difference.\n",
    "    \"\"\"\n",
    "    # Extract the specified column values\n",
    "    values = data[column].dropna().values\n",
    "    \n",
    "    # Calculate the absolute differences between all pairs of elements\n",
    "    diff_matrix = np.abs(np.subtract.outer(values, values))\n",
    "    \n",
    "    # Calculate the mean of the absolute differences\n",
    "    gini_mean_diff = np.mean(diff_matrix)\n",
    "    \n",
    "    return gini_mean_diff\n"
   ]
  },
  {
   "cell_type": "code",
   "execution_count": 14,
   "id": "b3e05d77-931a-4c84-9de3-a3db4e0480aa",
   "metadata": {
    "tags": []
   },
   "outputs": [
    {
     "name": "stdout",
     "output_type": "stream",
     "text": [
      "Gini Mean Difference (without candidate): 0.011364237941021493\n",
      "Gini Mean Difference (candidate): 0.012184563121654236\n",
      "Gini Mean Difference (with candidate): 0.010105626515862097\n"
     ]
    }
   ],
   "source": [
    "gini_portfolio_with_candidate = gini_mean_difference(portfolio_with_candidate, 'portfolio_daily_return')\n",
    "gini_portfolio_without_candidate = gini_mean_difference(portfolio_without_candidate, 'portfolio_daily_return')\n",
    "gini_candidate = gini_mean_difference(candidate, 'portfolio_daily_return')\n",
    "\n",
    "print(f'Gini Mean Difference (without candidate): {gini_portfolio_without_candidate}')\n",
    "print(f'Gini Mean Difference (candidate): {gini_candidate}')\n",
    "print(f'Gini Mean Difference (with candidate): {gini_portfolio_with_candidate}')"
   ]
  },
  {
   "cell_type": "code",
   "execution_count": 15,
   "id": "2e3f7aeb-2bcc-49e4-bfec-5fc2bc164842",
   "metadata": {
    "tags": []
   },
   "outputs": [
    {
     "ename": "NameError",
     "evalue": "name 'plt' is not defined",
     "output_type": "error",
     "traceback": [
      "\u001b[0;31m---------------------------------------------------------------------------\u001b[0m",
      "\u001b[0;31mNameError\u001b[0m                                 Traceback (most recent call last)",
      "Cell \u001b[0;32mIn[15], line 50\u001b[0m\n\u001b[1;32m     47\u001b[0m labels \u001b[38;5;241m=\u001b[39m [\u001b[38;5;124m\"\u001b[39m\u001b[38;5;124mWith Candidate\u001b[39m\u001b[38;5;124m\"\u001b[39m, \u001b[38;5;124m\"\u001b[39m\u001b[38;5;124mWithout Candidate\u001b[39m\u001b[38;5;124m\"\u001b[39m, \u001b[38;5;124m\"\u001b[39m\u001b[38;5;124mCandidate Only\u001b[39m\u001b[38;5;124m\"\u001b[39m]\n\u001b[1;32m     49\u001b[0m \u001b[38;5;66;03m# Call the function to plot the bar chart\u001b[39;00m\n\u001b[0;32m---> 50\u001b[0m \u001b[43mplot_clustered_bar_chart_with_labels\u001b[49m\u001b[43m(\u001b[49m\u001b[43mgini_values\u001b[49m\u001b[43m,\u001b[49m\u001b[43m \u001b[49m\u001b[43mtrimmed_std_values\u001b[49m\u001b[43m,\u001b[49m\u001b[43m \u001b[49m\u001b[43mlabels\u001b[49m\u001b[43m)\u001b[49m\n",
      "Cell \u001b[0;32mIn[15], line 19\u001b[0m, in \u001b[0;36mplot_clustered_bar_chart_with_labels\u001b[0;34m(gini_values, trimmed_std_values, labels)\u001b[0m\n\u001b[1;32m     16\u001b[0m bar_width \u001b[38;5;241m=\u001b[39m \u001b[38;5;241m0.35\u001b[39m  \u001b[38;5;66;03m# Width of each bar\u001b[39;00m\n\u001b[1;32m     18\u001b[0m \u001b[38;5;66;03m# Plot bars\u001b[39;00m\n\u001b[0;32m---> 19\u001b[0m \u001b[43mplt\u001b[49m\u001b[38;5;241m.\u001b[39mfigure(figsize\u001b[38;5;241m=\u001b[39m(\u001b[38;5;241m10\u001b[39m, \u001b[38;5;241m6\u001b[39m))\n\u001b[1;32m     20\u001b[0m gini_bars \u001b[38;5;241m=\u001b[39m plt\u001b[38;5;241m.\u001b[39mbar(x \u001b[38;5;241m-\u001b[39m bar_width \u001b[38;5;241m/\u001b[39m \u001b[38;5;241m2\u001b[39m, gini_values, width\u001b[38;5;241m=\u001b[39mbar_width, label\u001b[38;5;241m=\u001b[39m\u001b[38;5;124m'\u001b[39m\u001b[38;5;124mGini Mean Difference\u001b[39m\u001b[38;5;124m'\u001b[39m, color\u001b[38;5;241m=\u001b[39m\u001b[38;5;124m'\u001b[39m\u001b[38;5;124mskyblue\u001b[39m\u001b[38;5;124m'\u001b[39m)\n\u001b[1;32m     21\u001b[0m std_bars \u001b[38;5;241m=\u001b[39m plt\u001b[38;5;241m.\u001b[39mbar(x \u001b[38;5;241m+\u001b[39m bar_width \u001b[38;5;241m/\u001b[39m \u001b[38;5;241m2\u001b[39m, trimmed_std_values, width\u001b[38;5;241m=\u001b[39mbar_width, label\u001b[38;5;241m=\u001b[39m\u001b[38;5;124m'\u001b[39m\u001b[38;5;124mTrimmed Std Dev\u001b[39m\u001b[38;5;124m'\u001b[39m, color\u001b[38;5;241m=\u001b[39m\u001b[38;5;124m'\u001b[39m\u001b[38;5;124mlightcoral\u001b[39m\u001b[38;5;124m'\u001b[39m)\n",
      "\u001b[0;31mNameError\u001b[0m: name 'plt' is not defined"
     ]
    }
   ],
   "source": [
    "def plot_clustered_bar_chart_with_labels(gini_values, trimmed_std_values, labels):\n",
    "    \"\"\"\n",
    "    Plots a clustered bar chart with value labels for Gini mean difference\n",
    "    and trimmed standard deviation for three portfolios.\n",
    "\n",
    "    Args:\n",
    "        gini_values (list): A list of Gini mean differences for the portfolios.\n",
    "        trimmed_std_values (list): A list of trimmed standard deviations for the portfolios.\n",
    "        labels (list): A list of labels for the portfolios.\n",
    "    \"\"\"\n",
    "    # Number of portfolios\n",
    "    n_portfolios = len(labels)\n",
    "\n",
    "    # Bar positions\n",
    "    x = np.arange(n_portfolios)  # X-axis positions for the groups\n",
    "    bar_width = 0.35  # Width of each bar\n",
    "\n",
    "    # Plot bars\n",
    "    plt.figure(figsize=(10, 6))\n",
    "    gini_bars = plt.bar(x - bar_width / 2, gini_values, width=bar_width, label='Gini Mean Difference', color='skyblue')\n",
    "    std_bars = plt.bar(x + bar_width / 2, trimmed_std_values, width=bar_width, label='Trimmed Std Dev', color='lightcoral')\n",
    "\n",
    "    # Add labels and title\n",
    "    plt.title('Comparison of Portfolio Statistics')\n",
    "    plt.xlabel('Portfolios')\n",
    "    plt.ylabel('Values')\n",
    "    plt.xticks(x, labels)  # Set portfolio labels for x-axis ticks\n",
    "    plt.legend()\n",
    "    plt.grid(axis=\"y\", linestyle=\"--\", alpha=0.5)\n",
    "\n",
    "    # Add value labels to the bars\n",
    "    for bar in gini_bars:\n",
    "        height = bar.get_height()\n",
    "        plt.text(bar.get_x() + bar.get_width() / 2, height, f'{height:.4f}', ha='center', va='bottom', fontsize=10)\n",
    "\n",
    "    for bar in std_bars:\n",
    "        height = bar.get_height()\n",
    "        plt.text(bar.get_x() + bar.get_width() / 2, height, f'{height:.4f}', ha='center', va='bottom', fontsize=10)\n",
    "\n",
    "    # Display the plot\n",
    "    plt.tight_layout()\n",
    "    plt.show()\n",
    "\n",
    "# Define the calculated values\n",
    "gini_values = [gini_portfolio_with_candidate, gini_portfolio_without_candidate, gini_candidate]\n",
    "trimmed_std_values = [trimmed_std_portfolio_with_candidate, trimmed_std_portfolio_without_candidate, trimmed_std_candidate]\n",
    "labels = [\"With Candidate\", \"Without Candidate\", \"Candidate Only\"]\n",
    "\n",
    "# Call the function to plot the bar chart\n",
    "plot_clustered_bar_chart_with_labels(gini_values, trimmed_std_values, labels)\n"
   ]
  },
  {
   "cell_type": "markdown",
   "id": "819fb35d-d136-454e-9d56-44b0d3e34b84",
   "metadata": {
    "tags": []
   },
   "source": [
    "## Portfolio_attributes <a id=\"portfolio_attributes\"></a>\n",
    "\n",
    "[Back to Table of Contents](#table-of-contents)"
   ]
  },
  {
   "cell_type": "code",
   "execution_count": 19,
   "id": "fdc161c7-ac90-48a5-aae2-b1f4e2a01604",
   "metadata": {},
   "outputs": [],
   "source": [
    "# Select only the \"Close/Last_\" columns\n",
    "close_columns = [col for col in portfolio_with_candidate.columns if col.startswith('Close/Last_')]\n",
    "\n",
    "# Calculate daily percentage returns\n",
    "returns = portfolio_with_candidate[close_columns].pct_change()\n",
    "\n",
    "# Drop NaN values (from the first row caused by pct_change)\n",
    "returns = returns.dropna()\n",
    "\n",
    "# 1. Correlation Matrix\n",
    "correlation_matrix = returns.corr()\n",
    "\n",
    "# 2. Covariance Matrix\n",
    "covariance_matrix = returns.cov()\n",
    "\n",
    "# 3. Beta Matrix - Adjust to have the same shape as correlation and covariance matrices\n",
    "benchmark = close_columns[0]\n",
    "betas = {}\n",
    "\n",
    "# Initialize beta_matrix with NaN values to match the size of the correlation and covariance matrices\n",
    "beta_matrix = pd.DataFrame(np.nan, index=close_columns, columns=close_columns)\n",
    "\n",
    "for col in close_columns:\n",
    "    for row in close_columns:\n",
    "        if col == row:\n",
    "            beta_matrix.loc[row, col] = 1\n",
    "        else:\n",
    "            beta = covariance_matrix.loc[col, benchmark] / covariance_matrix.loc[benchmark, benchmark] \n",
    "            beta_matrix.loc[col, benchmark] = beta"
   ]
  },
  {
   "cell_type": "code",
   "execution_count": 20,
   "id": "a27ffb56-cecf-481a-8488-a03536f3211c",
   "metadata": {
    "tags": []
   },
   "outputs": [
    {
     "data": {
      "application/vnd.plotly.v1+json": {
       "config": {
        "plotlyServerURL": "https://plot.ly"
       },
       "data": [
        {
         "colorbar": {
          "orientation": "v",
          "tickvals": [
           0.42555148088085215,
           0,
           1
          ],
          "title": {
           "text": "Correlation"
          },
          "x": 0.15,
          "xanchor": "center",
          "y": -0.25,
          "yanchor": "top"
         },
         "colorscale": [
          [
           0,
           "rgb(103,0,31)"
          ],
          [
           0.1,
           "rgb(178,24,43)"
          ],
          [
           0.2,
           "rgb(214,96,77)"
          ],
          [
           0.3,
           "rgb(244,165,130)"
          ],
          [
           0.4,
           "rgb(253,219,199)"
          ],
          [
           0.5,
           "rgb(247,247,247)"
          ],
          [
           0.6,
           "rgb(209,229,240)"
          ],
          [
           0.7,
           "rgb(146,197,222)"
          ],
          [
           0.8,
           "rgb(67,147,195)"
          ],
          [
           0.9,
           "rgb(33,102,172)"
          ],
          [
           1,
           "rgb(5,48,97)"
          ]
         ],
         "hoverinfo": "skip",
         "showscale": true,
         "text": [
          [
           1,
           0.47,
           0.79
          ],
          [
           0.47,
           1,
           0.43
          ],
          [
           0.79,
           0.43,
           1
          ]
         ],
         "texttemplate": "%{text}",
         "type": "heatmap",
         "x": [
          "Close/Last_SPY",
          "Close/Last_XLU",
          "Close/Last_XLF"
         ],
         "xaxis": "x",
         "y": [
          "Close/Last_SPY",
          "Close/Last_XLU",
          "Close/Last_XLF"
         ],
         "yaxis": "y",
         "z": [
          [
           1,
           0.4711028115117099,
           0.7891317355286929
          ],
          [
           0.4711028115117099,
           1,
           0.42555148088085215
          ],
          [
           0.7891317355286929,
           0.42555148088085215,
           1
          ]
         ]
        },
        {
         "colorbar": {
          "orientation": "v",
          "tickvals": [
           54.08414914119249,
           0,
           138.94768649447028
          ],
          "title": {
           "text": "Covariance"
          },
          "x": 0.5,
          "xanchor": "center",
          "y": -0.25,
          "yanchor": "top"
         },
         "colorscale": [
          [
           0,
           "rgb(103,0,31)"
          ],
          [
           0.1,
           "rgb(178,24,43)"
          ],
          [
           0.2,
           "rgb(214,96,77)"
          ],
          [
           0.3,
           "rgb(244,165,130)"
          ],
          [
           0.4,
           "rgb(253,219,199)"
          ],
          [
           0.5,
           "rgb(247,247,247)"
          ],
          [
           0.6,
           "rgb(209,229,240)"
          ],
          [
           0.7,
           "rgb(146,197,222)"
          ],
          [
           0.8,
           "rgb(67,147,195)"
          ],
          [
           0.9,
           "rgb(33,102,172)"
          ],
          [
           1,
           "rgb(5,48,97)"
          ]
         ],
         "hoverinfo": "skip",
         "showscale": true,
         "text": [
          [
           108.13,
           54.08,
           96.73
          ],
          [
           54.08,
           121.89,
           55.38
          ],
          [
           96.73,
           55.38,
           138.95
          ]
         ],
         "texttemplate": "%{text}",
         "type": "heatmap",
         "x": [
          "Close/Last_SPY",
          "Close/Last_XLU",
          "Close/Last_XLF"
         ],
         "xaxis": "x2",
         "y": [
          "Close/Last_SPY",
          "Close/Last_XLU",
          "Close/Last_XLF"
         ],
         "yaxis": "y2",
         "z": [
          [
           108.12699838855562,
           54.08414914119249,
           96.72578049980206
          ],
          [
           54.08414914119249,
           121.89179263019216,
           55.38153620364418
          ],
          [
           96.72578049980206,
           55.38153620364418,
           138.94768649447028
          ]
         ]
        },
        {
         "colorbar": {
          "orientation": "v",
          "tickvals": [
           null,
           0,
           null
          ],
          "title": {
           "text": "Beta"
          },
          "x": 0.85,
          "xanchor": "center",
          "y": -0.25,
          "yanchor": "top"
         },
         "colorscale": [
          [
           0,
           "rgb(103,0,31)"
          ],
          [
           0.1,
           "rgb(178,24,43)"
          ],
          [
           0.2,
           "rgb(214,96,77)"
          ],
          [
           0.3,
           "rgb(244,165,130)"
          ],
          [
           0.4,
           "rgb(253,219,199)"
          ],
          [
           0.5,
           "rgb(247,247,247)"
          ],
          [
           0.6,
           "rgb(209,229,240)"
          ],
          [
           0.7,
           "rgb(146,197,222)"
          ],
          [
           0.8,
           "rgb(67,147,195)"
          ],
          [
           0.9,
           "rgb(33,102,172)"
          ],
          [
           1,
           "rgb(5,48,97)"
          ]
         ],
         "hoverinfo": "skip",
         "showscale": true,
         "text": [
          [
           1,
           null,
           null
          ],
          [
           0.5,
           1,
           null
          ],
          [
           0.89,
           null,
           1
          ]
         ],
         "texttemplate": "%{text}",
         "type": "heatmap",
         "x": [
          "Close/Last_SPY",
          "Close/Last_XLU",
          "Close/Last_XLF"
         ],
         "xaxis": "x3",
         "y": [
          "Close/Last_SPY",
          "Close/Last_XLU",
          "Close/Last_XLF"
         ],
         "yaxis": "y3",
         "z": [
          [
           1,
           null,
           null
          ],
          [
           0.5001909786382904,
           1,
           null
          ],
          [
           0.8945571590937615,
           null,
           1
          ]
         ]
        }
       ],
       "layout": {
        "annotations": [
         {
          "font": {
           "size": 16
          },
          "showarrow": false,
          "text": "Correlation Matrix",
          "x": 0.14444444444444443,
          "xanchor": "center",
          "xref": "paper",
          "y": 1,
          "yanchor": "bottom",
          "yref": "paper"
         },
         {
          "font": {
           "size": 16
          },
          "showarrow": false,
          "text": "Covariance Matrix (mu)",
          "x": 0.49999999999999994,
          "xanchor": "center",
          "xref": "paper",
          "y": 1,
          "yanchor": "bottom",
          "yref": "paper"
         },
         {
          "font": {
           "size": 16
          },
          "showarrow": false,
          "text": "Beta Matrix",
          "x": 0.8555555555555554,
          "xanchor": "center",
          "xref": "paper",
          "y": 1,
          "yanchor": "bottom",
          "yref": "paper"
         }
        ],
        "autosize": true,
        "showlegend": false,
        "template": {
         "data": {
          "bar": [
           {
            "error_x": {
             "color": "#2a3f5f"
            },
            "error_y": {
             "color": "#2a3f5f"
            },
            "marker": {
             "line": {
              "color": "#E5ECF6",
              "width": 0.5
             },
             "pattern": {
              "fillmode": "overlay",
              "size": 10,
              "solidity": 0.2
             }
            },
            "type": "bar"
           }
          ],
          "barpolar": [
           {
            "marker": {
             "line": {
              "color": "#E5ECF6",
              "width": 0.5
             },
             "pattern": {
              "fillmode": "overlay",
              "size": 10,
              "solidity": 0.2
             }
            },
            "type": "barpolar"
           }
          ],
          "carpet": [
           {
            "aaxis": {
             "endlinecolor": "#2a3f5f",
             "gridcolor": "white",
             "linecolor": "white",
             "minorgridcolor": "white",
             "startlinecolor": "#2a3f5f"
            },
            "baxis": {
             "endlinecolor": "#2a3f5f",
             "gridcolor": "white",
             "linecolor": "white",
             "minorgridcolor": "white",
             "startlinecolor": "#2a3f5f"
            },
            "type": "carpet"
           }
          ],
          "choropleth": [
           {
            "colorbar": {
             "outlinewidth": 0,
             "ticks": ""
            },
            "type": "choropleth"
           }
          ],
          "contour": [
           {
            "colorbar": {
             "outlinewidth": 0,
             "ticks": ""
            },
            "colorscale": [
             [
              0,
              "#0d0887"
             ],
             [
              0.1111111111111111,
              "#46039f"
             ],
             [
              0.2222222222222222,
              "#7201a8"
             ],
             [
              0.3333333333333333,
              "#9c179e"
             ],
             [
              0.4444444444444444,
              "#bd3786"
             ],
             [
              0.5555555555555556,
              "#d8576b"
             ],
             [
              0.6666666666666666,
              "#ed7953"
             ],
             [
              0.7777777777777778,
              "#fb9f3a"
             ],
             [
              0.8888888888888888,
              "#fdca26"
             ],
             [
              1,
              "#f0f921"
             ]
            ],
            "type": "contour"
           }
          ],
          "contourcarpet": [
           {
            "colorbar": {
             "outlinewidth": 0,
             "ticks": ""
            },
            "type": "contourcarpet"
           }
          ],
          "heatmap": [
           {
            "colorbar": {
             "outlinewidth": 0,
             "ticks": ""
            },
            "colorscale": [
             [
              0,
              "#0d0887"
             ],
             [
              0.1111111111111111,
              "#46039f"
             ],
             [
              0.2222222222222222,
              "#7201a8"
             ],
             [
              0.3333333333333333,
              "#9c179e"
             ],
             [
              0.4444444444444444,
              "#bd3786"
             ],
             [
              0.5555555555555556,
              "#d8576b"
             ],
             [
              0.6666666666666666,
              "#ed7953"
             ],
             [
              0.7777777777777778,
              "#fb9f3a"
             ],
             [
              0.8888888888888888,
              "#fdca26"
             ],
             [
              1,
              "#f0f921"
             ]
            ],
            "type": "heatmap"
           }
          ],
          "heatmapgl": [
           {
            "colorbar": {
             "outlinewidth": 0,
             "ticks": ""
            },
            "colorscale": [
             [
              0,
              "#0d0887"
             ],
             [
              0.1111111111111111,
              "#46039f"
             ],
             [
              0.2222222222222222,
              "#7201a8"
             ],
             [
              0.3333333333333333,
              "#9c179e"
             ],
             [
              0.4444444444444444,
              "#bd3786"
             ],
             [
              0.5555555555555556,
              "#d8576b"
             ],
             [
              0.6666666666666666,
              "#ed7953"
             ],
             [
              0.7777777777777778,
              "#fb9f3a"
             ],
             [
              0.8888888888888888,
              "#fdca26"
             ],
             [
              1,
              "#f0f921"
             ]
            ],
            "type": "heatmapgl"
           }
          ],
          "histogram": [
           {
            "marker": {
             "pattern": {
              "fillmode": "overlay",
              "size": 10,
              "solidity": 0.2
             }
            },
            "type": "histogram"
           }
          ],
          "histogram2d": [
           {
            "colorbar": {
             "outlinewidth": 0,
             "ticks": ""
            },
            "colorscale": [
             [
              0,
              "#0d0887"
             ],
             [
              0.1111111111111111,
              "#46039f"
             ],
             [
              0.2222222222222222,
              "#7201a8"
             ],
             [
              0.3333333333333333,
              "#9c179e"
             ],
             [
              0.4444444444444444,
              "#bd3786"
             ],
             [
              0.5555555555555556,
              "#d8576b"
             ],
             [
              0.6666666666666666,
              "#ed7953"
             ],
             [
              0.7777777777777778,
              "#fb9f3a"
             ],
             [
              0.8888888888888888,
              "#fdca26"
             ],
             [
              1,
              "#f0f921"
             ]
            ],
            "type": "histogram2d"
           }
          ],
          "histogram2dcontour": [
           {
            "colorbar": {
             "outlinewidth": 0,
             "ticks": ""
            },
            "colorscale": [
             [
              0,
              "#0d0887"
             ],
             [
              0.1111111111111111,
              "#46039f"
             ],
             [
              0.2222222222222222,
              "#7201a8"
             ],
             [
              0.3333333333333333,
              "#9c179e"
             ],
             [
              0.4444444444444444,
              "#bd3786"
             ],
             [
              0.5555555555555556,
              "#d8576b"
             ],
             [
              0.6666666666666666,
              "#ed7953"
             ],
             [
              0.7777777777777778,
              "#fb9f3a"
             ],
             [
              0.8888888888888888,
              "#fdca26"
             ],
             [
              1,
              "#f0f921"
             ]
            ],
            "type": "histogram2dcontour"
           }
          ],
          "mesh3d": [
           {
            "colorbar": {
             "outlinewidth": 0,
             "ticks": ""
            },
            "type": "mesh3d"
           }
          ],
          "parcoords": [
           {
            "line": {
             "colorbar": {
              "outlinewidth": 0,
              "ticks": ""
             }
            },
            "type": "parcoords"
           }
          ],
          "pie": [
           {
            "automargin": true,
            "type": "pie"
           }
          ],
          "scatter": [
           {
            "fillpattern": {
             "fillmode": "overlay",
             "size": 10,
             "solidity": 0.2
            },
            "type": "scatter"
           }
          ],
          "scatter3d": [
           {
            "line": {
             "colorbar": {
              "outlinewidth": 0,
              "ticks": ""
             }
            },
            "marker": {
             "colorbar": {
              "outlinewidth": 0,
              "ticks": ""
             }
            },
            "type": "scatter3d"
           }
          ],
          "scattercarpet": [
           {
            "marker": {
             "colorbar": {
              "outlinewidth": 0,
              "ticks": ""
             }
            },
            "type": "scattercarpet"
           }
          ],
          "scattergeo": [
           {
            "marker": {
             "colorbar": {
              "outlinewidth": 0,
              "ticks": ""
             }
            },
            "type": "scattergeo"
           }
          ],
          "scattergl": [
           {
            "marker": {
             "colorbar": {
              "outlinewidth": 0,
              "ticks": ""
             }
            },
            "type": "scattergl"
           }
          ],
          "scattermapbox": [
           {
            "marker": {
             "colorbar": {
              "outlinewidth": 0,
              "ticks": ""
             }
            },
            "type": "scattermapbox"
           }
          ],
          "scatterpolar": [
           {
            "marker": {
             "colorbar": {
              "outlinewidth": 0,
              "ticks": ""
             }
            },
            "type": "scatterpolar"
           }
          ],
          "scatterpolargl": [
           {
            "marker": {
             "colorbar": {
              "outlinewidth": 0,
              "ticks": ""
             }
            },
            "type": "scatterpolargl"
           }
          ],
          "scatterternary": [
           {
            "marker": {
             "colorbar": {
              "outlinewidth": 0,
              "ticks": ""
             }
            },
            "type": "scatterternary"
           }
          ],
          "surface": [
           {
            "colorbar": {
             "outlinewidth": 0,
             "ticks": ""
            },
            "colorscale": [
             [
              0,
              "#0d0887"
             ],
             [
              0.1111111111111111,
              "#46039f"
             ],
             [
              0.2222222222222222,
              "#7201a8"
             ],
             [
              0.3333333333333333,
              "#9c179e"
             ],
             [
              0.4444444444444444,
              "#bd3786"
             ],
             [
              0.5555555555555556,
              "#d8576b"
             ],
             [
              0.6666666666666666,
              "#ed7953"
             ],
             [
              0.7777777777777778,
              "#fb9f3a"
             ],
             [
              0.8888888888888888,
              "#fdca26"
             ],
             [
              1,
              "#f0f921"
             ]
            ],
            "type": "surface"
           }
          ],
          "table": [
           {
            "cells": {
             "fill": {
              "color": "#EBF0F8"
             },
             "line": {
              "color": "white"
             }
            },
            "header": {
             "fill": {
              "color": "#C8D4E3"
             },
             "line": {
              "color": "white"
             }
            },
            "type": "table"
           }
          ]
         },
         "layout": {
          "annotationdefaults": {
           "arrowcolor": "#2a3f5f",
           "arrowhead": 0,
           "arrowwidth": 1
          },
          "autotypenumbers": "strict",
          "coloraxis": {
           "colorbar": {
            "outlinewidth": 0,
            "ticks": ""
           }
          },
          "colorscale": {
           "diverging": [
            [
             0,
             "#8e0152"
            ],
            [
             0.1,
             "#c51b7d"
            ],
            [
             0.2,
             "#de77ae"
            ],
            [
             0.3,
             "#f1b6da"
            ],
            [
             0.4,
             "#fde0ef"
            ],
            [
             0.5,
             "#f7f7f7"
            ],
            [
             0.6,
             "#e6f5d0"
            ],
            [
             0.7,
             "#b8e186"
            ],
            [
             0.8,
             "#7fbc41"
            ],
            [
             0.9,
             "#4d9221"
            ],
            [
             1,
             "#276419"
            ]
           ],
           "sequential": [
            [
             0,
             "#0d0887"
            ],
            [
             0.1111111111111111,
             "#46039f"
            ],
            [
             0.2222222222222222,
             "#7201a8"
            ],
            [
             0.3333333333333333,
             "#9c179e"
            ],
            [
             0.4444444444444444,
             "#bd3786"
            ],
            [
             0.5555555555555556,
             "#d8576b"
            ],
            [
             0.6666666666666666,
             "#ed7953"
            ],
            [
             0.7777777777777778,
             "#fb9f3a"
            ],
            [
             0.8888888888888888,
             "#fdca26"
            ],
            [
             1,
             "#f0f921"
            ]
           ],
           "sequentialminus": [
            [
             0,
             "#0d0887"
            ],
            [
             0.1111111111111111,
             "#46039f"
            ],
            [
             0.2222222222222222,
             "#7201a8"
            ],
            [
             0.3333333333333333,
             "#9c179e"
            ],
            [
             0.4444444444444444,
             "#bd3786"
            ],
            [
             0.5555555555555556,
             "#d8576b"
            ],
            [
             0.6666666666666666,
             "#ed7953"
            ],
            [
             0.7777777777777778,
             "#fb9f3a"
            ],
            [
             0.8888888888888888,
             "#fdca26"
            ],
            [
             1,
             "#f0f921"
            ]
           ]
          },
          "colorway": [
           "#636efa",
           "#EF553B",
           "#00cc96",
           "#ab63fa",
           "#FFA15A",
           "#19d3f3",
           "#FF6692",
           "#B6E880",
           "#FF97FF",
           "#FECB52"
          ],
          "font": {
           "color": "#2a3f5f"
          },
          "geo": {
           "bgcolor": "white",
           "lakecolor": "white",
           "landcolor": "#E5ECF6",
           "showlakes": true,
           "showland": true,
           "subunitcolor": "white"
          },
          "hoverlabel": {
           "align": "left"
          },
          "hovermode": "closest",
          "mapbox": {
           "style": "light"
          },
          "paper_bgcolor": "white",
          "plot_bgcolor": "#E5ECF6",
          "polar": {
           "angularaxis": {
            "gridcolor": "white",
            "linecolor": "white",
            "ticks": ""
           },
           "bgcolor": "#E5ECF6",
           "radialaxis": {
            "gridcolor": "white",
            "linecolor": "white",
            "ticks": ""
           }
          },
          "scene": {
           "xaxis": {
            "backgroundcolor": "#E5ECF6",
            "gridcolor": "white",
            "gridwidth": 2,
            "linecolor": "white",
            "showbackground": true,
            "ticks": "",
            "zerolinecolor": "white"
           },
           "yaxis": {
            "backgroundcolor": "#E5ECF6",
            "gridcolor": "white",
            "gridwidth": 2,
            "linecolor": "white",
            "showbackground": true,
            "ticks": "",
            "zerolinecolor": "white"
           },
           "zaxis": {
            "backgroundcolor": "#E5ECF6",
            "gridcolor": "white",
            "gridwidth": 2,
            "linecolor": "white",
            "showbackground": true,
            "ticks": "",
            "zerolinecolor": "white"
           }
          },
          "shapedefaults": {
           "line": {
            "color": "#2a3f5f"
           }
          },
          "ternary": {
           "aaxis": {
            "gridcolor": "white",
            "linecolor": "white",
            "ticks": ""
           },
           "baxis": {
            "gridcolor": "white",
            "linecolor": "white",
            "ticks": ""
           },
           "bgcolor": "#E5ECF6",
           "caxis": {
            "gridcolor": "white",
            "linecolor": "white",
            "ticks": ""
           }
          },
          "title": {
           "x": 0.05
          },
          "xaxis": {
           "automargin": true,
           "gridcolor": "white",
           "linecolor": "white",
           "ticks": "",
           "title": {
            "standoff": 15
           },
           "zerolinecolor": "white",
           "zerolinewidth": 2
          },
          "yaxis": {
           "automargin": true,
           "gridcolor": "white",
           "linecolor": "white",
           "ticks": "",
           "title": {
            "standoff": 15
           },
           "zerolinecolor": "white",
           "zerolinewidth": 2
          }
         }
        },
        "title": {
         "text": "Correlation, Covariance (mu), and Beta Matrices",
         "x": 0.5
        },
        "xaxis": {
         "anchor": "y",
         "autorange": true,
         "domain": [
          0,
          0.28888888888888886
         ],
         "range": [
          -0.5,
          2.5
         ],
         "type": "category"
        },
        "xaxis2": {
         "anchor": "y2",
         "autorange": true,
         "domain": [
          0.3555555555555555,
          0.6444444444444444
         ],
         "range": [
          -0.5,
          2.5
         ],
         "type": "category"
        },
        "xaxis3": {
         "anchor": "y3",
         "autorange": true,
         "domain": [
          0.711111111111111,
          0.9999999999999999
         ],
         "range": [
          -0.5,
          2.5
         ],
         "type": "category"
        },
        "yaxis": {
         "anchor": "x",
         "autorange": true,
         "domain": [
          0,
          1
         ],
         "range": [
          -0.5,
          2.5
         ],
         "type": "category"
        },
        "yaxis2": {
         "anchor": "x2",
         "autorange": true,
         "domain": [
          0,
          1
         ],
         "matches": "y",
         "range": [
          -0.5,
          2.5
         ],
         "showticklabels": false,
         "type": "category"
        },
        "yaxis3": {
         "anchor": "x3",
         "autorange": true,
         "domain": [
          0,
          1
         ],
         "matches": "y",
         "range": [
          -0.5,
          2.5
         ],
         "showticklabels": false,
         "type": "category"
        }
       }
      },
      "image/png": "[encoded data removed]",
      "text/html": [
       "<div>                            <div id=\"f2d09f04-3199-406f-a21a-d5b1f36bb127\" class=\"plotly-graph-div\" style=\"height:750px; width:100%;\"></div>            <script type=\"text/javascript\">                require([\"plotly\"], function(Plotly) {                    window.PLOTLYENV=window.PLOTLYENV || {};                                    if (document.getElementById(\"f2d09f04-3199-406f-a21a-d5b1f36bb127\")) {                    Plotly.newPlot(                        \"f2d09f04-3199-406f-a21a-d5b1f36bb127\",                        [{\"colorbar\":{\"orientation\":\"v\",\"tickvals\":[0.42555148088085215,0,1.0],\"title\":{\"text\":\"Correlation\"},\"x\":0.15,\"xanchor\":\"center\",\"y\":-0.25,\"yanchor\":\"top\"},\"colorscale\":[[0.0,\"rgb(103,0,31)\"],[0.1,\"rgb(178,24,43)\"],[0.2,\"rgb(214,96,77)\"],[0.3,\"rgb(244,165,130)\"],[0.4,\"rgb(253,219,199)\"],[0.5,\"rgb(247,247,247)\"],[0.6,\"rgb(209,229,240)\"],[0.7,\"rgb(146,197,222)\"],[0.8,\"rgb(67,147,195)\"],[0.9,\"rgb(33,102,172)\"],[1.0,\"rgb(5,48,97)\"]],\"hoverinfo\":\"skip\",\"showscale\":true,\"text\":[[1.0,0.47,0.79],[0.47,1.0,0.43],[0.79,0.43,1.0]],\"texttemplate\":\"%{text}\",\"x\":[\"Close/Last_SPY\",\"Close/Last_XLU\",\"Close/Last_XLF\"],\"y\":[\"Close/Last_SPY\",\"Close/Last_XLU\",\"Close/Last_XLF\"],\"z\":[[1.0,0.4711028115117099,0.7891317355286929],[0.4711028115117099,1.0,0.42555148088085215],[0.7891317355286929,0.42555148088085215,1.0]],\"type\":\"heatmap\",\"xaxis\":\"x\",\"yaxis\":\"y\"},{\"colorbar\":{\"orientation\":\"v\",\"tickvals\":[54.08414914119249,0,138.94768649447028],\"title\":{\"text\":\"Covariance\"},\"x\":0.5,\"xanchor\":\"center\",\"y\":-0.25,\"yanchor\":\"top\"},\"colorscale\":[[0.0,\"rgb(103,0,31)\"],[0.1,\"rgb(178,24,43)\"],[0.2,\"rgb(214,96,77)\"],[0.3,\"rgb(244,165,130)\"],[0.4,\"rgb(253,219,199)\"],[0.5,\"rgb(247,247,247)\"],[0.6,\"rgb(209,229,240)\"],[0.7,\"rgb(146,197,222)\"],[0.8,\"rgb(67,147,195)\"],[0.9,\"rgb(33,102,172)\"],[1.0,\"rgb(5,48,97)\"]],\"hoverinfo\":\"skip\",\"showscale\":true,\"text\":[[108.13,54.08,96.73],[54.08,121.89,55.38],[96.73,55.38,138.95]],\"texttemplate\":\"%{text}\",\"x\":[\"Close/Last_SPY\",\"Close/Last_XLU\",\"Close/Last_XLF\"],\"y\":[\"Close/Last_SPY\",\"Close/Last_XLU\",\"Close/Last_XLF\"],\"z\":[[108.12699838855562,54.08414914119249,96.72578049980206],[54.08414914119249,121.89179263019216,55.38153620364418],[96.72578049980206,55.38153620364418,138.94768649447028]],\"type\":\"heatmap\",\"xaxis\":\"x2\",\"yaxis\":\"y2\"},{\"colorbar\":{\"orientation\":\"v\",\"tickvals\":[null,0,null],\"title\":{\"text\":\"Beta\"},\"x\":0.85,\"xanchor\":\"center\",\"y\":-0.25,\"yanchor\":\"top\"},\"colorscale\":[[0.0,\"rgb(103,0,31)\"],[0.1,\"rgb(178,24,43)\"],[0.2,\"rgb(214,96,77)\"],[0.3,\"rgb(244,165,130)\"],[0.4,\"rgb(253,219,199)\"],[0.5,\"rgb(247,247,247)\"],[0.6,\"rgb(209,229,240)\"],[0.7,\"rgb(146,197,222)\"],[0.8,\"rgb(67,147,195)\"],[0.9,\"rgb(33,102,172)\"],[1.0,\"rgb(5,48,97)\"]],\"hoverinfo\":\"skip\",\"showscale\":true,\"text\":[[1.0,null,null],[0.5,1.0,null],[0.89,null,1.0]],\"texttemplate\":\"%{text}\",\"x\":[\"Close/Last_SPY\",\"Close/Last_XLU\",\"Close/Last_XLF\"],\"y\":[\"Close/Last_SPY\",\"Close/Last_XLU\",\"Close/Last_XLF\"],\"z\":[[1.0,null,null],[0.5001909786382904,1.0,null],[0.8945571590937615,null,1.0]],\"type\":\"heatmap\",\"xaxis\":\"x3\",\"yaxis\":\"y3\"}],                        {\"template\":{\"data\":{\"histogram2dcontour\":[{\"type\":\"histogram2dcontour\",\"colorbar\":{\"outlinewidth\":0,\"ticks\":\"\"},\"colorscale\":[[0.0,\"#0d0887\"],[0.1111111111111111,\"#46039f\"],[0.2222222222222222,\"#7201a8\"],[0.3333333333333333,\"#9c179e\"],[0.4444444444444444,\"#bd3786\"],[0.5555555555555556,\"#d8576b\"],[0.6666666666666666,\"#ed7953\"],[0.7777777777777778,\"#fb9f3a\"],[0.8888888888888888,\"#fdca26\"],[1.0,\"#f0f921\"]]}],\"choropleth\":[{\"type\":\"choropleth\",\"colorbar\":{\"outlinewidth\":0,\"ticks\":\"\"}}],\"histogram2d\":[{\"type\":\"histogram2d\",\"colorbar\":{\"outlinewidth\":0,\"ticks\":\"\"},\"colorscale\":[[0.0,\"#0d0887\"],[0.1111111111111111,\"#46039f\"],[0.2222222222222222,\"#7201a8\"],[0.3333333333333333,\"#9c179e\"],[0.4444444444444444,\"#bd3786\"],[0.5555555555555556,\"#d8576b\"],[0.6666666666666666,\"#ed7953\"],[0.7777777777777778,\"#fb9f3a\"],[0.8888888888888888,\"#fdca26\"],[1.0,\"#f0f921\"]]}],\"heatmap\":[{\"type\":\"heatmap\",\"colorbar\":{\"outlinewidth\":0,\"ticks\":\"\"},\"colorscale\":[[0.0,\"#0d0887\"],[0.1111111111111111,\"#46039f\"],[0.2222222222222222,\"#7201a8\"],[0.3333333333333333,\"#9c179e\"],[0.4444444444444444,\"#bd3786\"],[0.5555555555555556,\"#d8576b\"],[0.6666666666666666,\"#ed7953\"],[0.7777777777777778,\"#fb9f3a\"],[0.8888888888888888,\"#fdca26\"],[1.0,\"#f0f921\"]]}],\"heatmapgl\":[{\"type\":\"heatmapgl\",\"colorbar\":{\"outlinewidth\":0,\"ticks\":\"\"},\"colorscale\":[[0.0,\"#0d0887\"],[0.1111111111111111,\"#46039f\"],[0.2222222222222222,\"#7201a8\"],[0.3333333333333333,\"#9c179e\"],[0.4444444444444444,\"#bd3786\"],[0.5555555555555556,\"#d8576b\"],[0.6666666666666666,\"#ed7953\"],[0.7777777777777778,\"#fb9f3a\"],[0.8888888888888888,\"#fdca26\"],[1.0,\"#f0f921\"]]}],\"contourcarpet\":[{\"type\":\"contourcarpet\",\"colorbar\":{\"outlinewidth\":0,\"ticks\":\"\"}}],\"contour\":[{\"type\":\"contour\",\"colorbar\":{\"outlinewidth\":0,\"ticks\":\"\"},\"colorscale\":[[0.0,\"#0d0887\"],[0.1111111111111111,\"#46039f\"],[0.2222222222222222,\"#7201a8\"],[0.3333333333333333,\"#9c179e\"],[0.4444444444444444,\"#bd3786\"],[0.5555555555555556,\"#d8576b\"],[0.6666666666666666,\"#ed7953\"],[0.7777777777777778,\"#fb9f3a\"],[0.8888888888888888,\"#fdca26\"],[1.0,\"#f0f921\"]]}],\"surface\":[{\"type\":\"surface\",\"colorbar\":{\"outlinewidth\":0,\"ticks\":\"\"},\"colorscale\":[[0.0,\"#0d0887\"],[0.1111111111111111,\"#46039f\"],[0.2222222222222222,\"#7201a8\"],[0.3333333333333333,\"#9c179e\"],[0.4444444444444444,\"#bd3786\"],[0.5555555555555556,\"#d8576b\"],[0.6666666666666666,\"#ed7953\"],[0.7777777777777778,\"#fb9f3a\"],[0.8888888888888888,\"#fdca26\"],[1.0,\"#f0f921\"]]}],\"mesh3d\":[{\"type\":\"mesh3d\",\"colorbar\":{\"outlinewidth\":0,\"ticks\":\"\"}}],\"scatter\":[{\"fillpattern\":{\"fillmode\":\"overlay\",\"size\":10,\"solidity\":0.2},\"type\":\"scatter\"}],\"parcoords\":[{\"type\":\"parcoords\",\"line\":{\"colorbar\":{\"outlinewidth\":0,\"ticks\":\"\"}}}],\"scatterpolargl\":[{\"type\":\"scatterpolargl\",\"marker\":{\"colorbar\":{\"outlinewidth\":0,\"ticks\":\"\"}}}],\"bar\":[{\"error_x\":{\"color\":\"#2a3f5f\"},\"error_y\":{\"color\":\"#2a3f5f\"},\"marker\":{\"line\":{\"color\":\"#E5ECF6\",\"width\":0.5},\"pattern\":{\"fillmode\":\"overlay\",\"size\":10,\"solidity\":0.2}},\"type\":\"bar\"}],\"scattergeo\":[{\"type\":\"scattergeo\",\"marker\":{\"colorbar\":{\"outlinewidth\":0,\"ticks\":\"\"}}}],\"scatterpolar\":[{\"type\":\"scatterpolar\",\"marker\":{\"colorbar\":{\"outlinewidth\":0,\"ticks\":\"\"}}}],\"histogram\":[{\"marker\":{\"pattern\":{\"fillmode\":\"overlay\",\"size\":10,\"solidity\":0.2}},\"type\":\"histogram\"}],\"scattergl\":[{\"type\":\"scattergl\",\"marker\":{\"colorbar\":{\"outlinewidth\":0,\"ticks\":\"\"}}}],\"scatter3d\":[{\"type\":\"scatter3d\",\"line\":{\"colorbar\":{\"outlinewidth\":0,\"ticks\":\"\"}},\"marker\":{\"colorbar\":{\"outlinewidth\":0,\"ticks\":\"\"}}}],\"scattermapbox\":[{\"type\":\"scattermapbox\",\"marker\":{\"colorbar\":{\"outlinewidth\":0,\"ticks\":\"\"}}}],\"scatterternary\":[{\"type\":\"scatterternary\",\"marker\":{\"colorbar\":{\"outlinewidth\":0,\"ticks\":\"\"}}}],\"scattercarpet\":[{\"type\":\"scattercarpet\",\"marker\":{\"colorbar\":{\"outlinewidth\":0,\"ticks\":\"\"}}}],\"carpet\":[{\"aaxis\":{\"endlinecolor\":\"#2a3f5f\",\"gridcolor\":\"white\",\"linecolor\":\"white\",\"minorgridcolor\":\"white\",\"startlinecolor\":\"#2a3f5f\"},\"baxis\":{\"endlinecolor\":\"#2a3f5f\",\"gridcolor\":\"white\",\"linecolor\":\"white\",\"minorgridcolor\":\"white\",\"startlinecolor\":\"#2a3f5f\"},\"type\":\"carpet\"}],\"table\":[{\"cells\":{\"fill\":{\"color\":\"#EBF0F8\"},\"line\":{\"color\":\"white\"}},\"header\":{\"fill\":{\"color\":\"#C8D4E3\"},\"line\":{\"color\":\"white\"}},\"type\":\"table\"}],\"barpolar\":[{\"marker\":{\"line\":{\"color\":\"#E5ECF6\",\"width\":0.5},\"pattern\":{\"fillmode\":\"overlay\",\"size\":10,\"solidity\":0.2}},\"type\":\"barpolar\"}],\"pie\":[{\"automargin\":true,\"type\":\"pie\"}]},\"layout\":{\"autotypenumbers\":\"strict\",\"colorway\":[\"#636efa\",\"#EF553B\",\"#00cc96\",\"#ab63fa\",\"#FFA15A\",\"#19d3f3\",\"#FF6692\",\"#B6E880\",\"#FF97FF\",\"#FECB52\"],\"font\":{\"color\":\"#2a3f5f\"},\"hovermode\":\"closest\",\"hoverlabel\":{\"align\":\"left\"},\"paper_bgcolor\":\"white\",\"plot_bgcolor\":\"#E5ECF6\",\"polar\":{\"bgcolor\":\"#E5ECF6\",\"angularaxis\":{\"gridcolor\":\"white\",\"linecolor\":\"white\",\"ticks\":\"\"},\"radialaxis\":{\"gridcolor\":\"white\",\"linecolor\":\"white\",\"ticks\":\"\"}},\"ternary\":{\"bgcolor\":\"#E5ECF6\",\"aaxis\":{\"gridcolor\":\"white\",\"linecolor\":\"white\",\"ticks\":\"\"},\"baxis\":{\"gridcolor\":\"white\",\"linecolor\":\"white\",\"ticks\":\"\"},\"caxis\":{\"gridcolor\":\"white\",\"linecolor\":\"white\",\"ticks\":\"\"}},\"coloraxis\":{\"colorbar\":{\"outlinewidth\":0,\"ticks\":\"\"}},\"colorscale\":{\"sequential\":[[0.0,\"#0d0887\"],[0.1111111111111111,\"#46039f\"],[0.2222222222222222,\"#7201a8\"],[0.3333333333333333,\"#9c179e\"],[0.4444444444444444,\"#bd3786\"],[0.5555555555555556,\"#d8576b\"],[0.6666666666666666,\"#ed7953\"],[0.7777777777777778,\"#fb9f3a\"],[0.8888888888888888,\"#fdca26\"],[1.0,\"#f0f921\"]],\"sequentialminus\":[[0.0,\"#0d0887\"],[0.1111111111111111,\"#46039f\"],[0.2222222222222222,\"#7201a8\"],[0.3333333333333333,\"#9c179e\"],[0.4444444444444444,\"#bd3786\"],[0.5555555555555556,\"#d8576b\"],[0.6666666666666666,\"#ed7953\"],[0.7777777777777778,\"#fb9f3a\"],[0.8888888888888888,\"#fdca26\"],[1.0,\"#f0f921\"]],\"diverging\":[[0,\"#8e0152\"],[0.1,\"#c51b7d\"],[0.2,\"#de77ae\"],[0.3,\"#f1b6da\"],[0.4,\"#fde0ef\"],[0.5,\"#f7f7f7\"],[0.6,\"#e6f5d0\"],[0.7,\"#b8e186\"],[0.8,\"#7fbc41\"],[0.9,\"#4d9221\"],[1,\"#276419\"]]},\"xaxis\":{\"gridcolor\":\"white\",\"linecolor\":\"white\",\"ticks\":\"\",\"title\":{\"standoff\":15},\"zerolinecolor\":\"white\",\"automargin\":true,\"zerolinewidth\":2},\"yaxis\":{\"gridcolor\":\"white\",\"linecolor\":\"white\",\"ticks\":\"\",\"title\":{\"standoff\":15},\"zerolinecolor\":\"white\",\"automargin\":true,\"zerolinewidth\":2},\"scene\":{\"xaxis\":{\"backgroundcolor\":\"#E5ECF6\",\"gridcolor\":\"white\",\"linecolor\":\"white\",\"showbackground\":true,\"ticks\":\"\",\"zerolinecolor\":\"white\",\"gridwidth\":2},\"yaxis\":{\"backgroundcolor\":\"#E5ECF6\",\"gridcolor\":\"white\",\"linecolor\":\"white\",\"showbackground\":true,\"ticks\":\"\",\"zerolinecolor\":\"white\",\"gridwidth\":2},\"zaxis\":{\"backgroundcolor\":\"#E5ECF6\",\"gridcolor\":\"white\",\"linecolor\":\"white\",\"showbackground\":true,\"ticks\":\"\",\"zerolinecolor\":\"white\",\"gridwidth\":2}},\"shapedefaults\":{\"line\":{\"color\":\"#2a3f5f\"}},\"annotationdefaults\":{\"arrowcolor\":\"#2a3f5f\",\"arrowhead\":0,\"arrowwidth\":1},\"geo\":{\"bgcolor\":\"white\",\"landcolor\":\"#E5ECF6\",\"subunitcolor\":\"white\",\"showland\":true,\"showlakes\":true,\"lakecolor\":\"white\"},\"title\":{\"x\":0.05},\"mapbox\":{\"style\":\"light\"}}},\"xaxis\":{\"anchor\":\"y\",\"domain\":[0.0,0.28888888888888886]},\"yaxis\":{\"anchor\":\"x\",\"domain\":[0.0,1.0]},\"xaxis2\":{\"anchor\":\"y2\",\"domain\":[0.3555555555555555,0.6444444444444444]},\"yaxis2\":{\"anchor\":\"x2\",\"domain\":[0.0,1.0],\"matches\":\"y\",\"showticklabels\":false},\"xaxis3\":{\"anchor\":\"y3\",\"domain\":[0.711111111111111,0.9999999999999999]},\"yaxis3\":{\"anchor\":\"x3\",\"domain\":[0.0,1.0],\"matches\":\"y\",\"showticklabels\":false},\"annotations\":[{\"font\":{\"size\":16},\"showarrow\":false,\"text\":\"Correlation Matrix\",\"x\":0.14444444444444443,\"xanchor\":\"center\",\"xref\":\"paper\",\"y\":1.0,\"yanchor\":\"bottom\",\"yref\":\"paper\"},{\"font\":{\"size\":16},\"showarrow\":false,\"text\":\"Covariance Matrix (mu)\",\"x\":0.49999999999999994,\"xanchor\":\"center\",\"xref\":\"paper\",\"y\":1.0,\"yanchor\":\"bottom\",\"yref\":\"paper\"},{\"font\":{\"size\":16},\"showarrow\":false,\"text\":\"Beta Matrix\",\"x\":0.8555555555555554,\"xanchor\":\"center\",\"xref\":\"paper\",\"y\":1.0,\"yanchor\":\"bottom\",\"yref\":\"paper\"}],\"title\":{\"text\":\"Correlation, Covariance (mu), and Beta Matrices\",\"x\":0.5},\"height\":750,\"showlegend\":false},                        {\"responsive\": true}                    ).then(function(){\n",
       "                            \n",
       "var gd = document.getElementById('f2d09f04-3199-406f-a21a-d5b1f36bb127');\n",
       "var x = new MutationObserver(function (mutations, observer) {{\n",
       "        var display = window.getComputedStyle(gd).display;\n",
       "        if (!display || display === 'none') {{\n",
       "            console.log([gd, 'removed!']);\n",
       "            Plotly.purge(gd);\n",
       "            observer.disconnect();\n",
       "        }}\n",
       "}});\n",
       "\n",
       "// Listen for the removal of the full notebook cells\n",
       "var notebookContainer = gd.closest('#notebook-container');\n",
       "if (notebookContainer) {{\n",
       "    x.observe(notebookContainer, {childList: true});\n",
       "}}\n",
       "\n",
       "// Listen for the clearing of the current output cell\n",
       "var outputEl = gd.closest('.output');\n",
       "if (outputEl) {{\n",
       "    x.observe(outputEl, {childList: true});\n",
       "}}\n",
       "\n",
       "                        })                };                });            </script>        </div>"
      ]
     },
     "metadata": {},
     "output_type": "display_data"
    }
   ],
   "source": [
    "# Define a conversion factor for covariance (e.g., multiplying by 1e6 for 'mu' units)\n",
    "covariance_conversion_factor = 1e6  # Adjust this based on what \"mu\" represents\n",
    "\n",
    "# Apply conversion factor to covariance matrix\n",
    "covariance_matrix_mu = covariance_matrix * covariance_conversion_factor\n",
    "\n",
    "# Store matrices in a dictionary for dynamic plotting\n",
    "matrices = {\n",
    "    \"Correlation Matrix\": correlation_matrix,\n",
    "    \"Covariance Matrix (mu)\": covariance_matrix_mu,  # Use converted covariance matrix\n",
    "    \"Beta Matrix\": beta_matrix\n",
    "}\n",
    "\n",
    "num_matrices = len(matrices)  # Adjust based on how many matrices you have\n",
    "\n",
    "# Create subplots dynamically\n",
    "fig = make_subplots(\n",
    "    rows=1, cols=num_matrices,  \n",
    "    subplot_titles=list(matrices.keys()),  # Dynamically set titles\n",
    "    column_widths=[1/num_matrices] * num_matrices,  \n",
    "    shared_yaxes=True,\n",
    "    shared_xaxes=True\n",
    ")\n",
    "\n",
    "# Adjust x positions for colorbars below each heatmap, adding some spacing\n",
    "x_positions = np.linspace(0.15, 0.85, num_matrices)  # Spread them evenly from left to right with spacing\n",
    "\n",
    "# Add each matrix as a heatmap dynamically\n",
    "for i, (title, matrix) in enumerate(matrices.items(), start=1):\n",
    "    fig.add_trace(\n",
    "        go.Heatmap(\n",
    "            z=matrix.values,\n",
    "            x=matrix.columns,\n",
    "            y=matrix.columns,\n",
    "            colorscale=\"RdBu\",\n",
    "            colorbar=dict(\n",
    "                title=title.split()[0],  # Use first word of title (Correlation, Covariance, Beta)\n",
    "                tickvals=[matrix.values.min(), 0, matrix.values.max()],\n",
    "                yanchor=\"top\",\n",
    "                y=-0.25,  # Move colorbar slightly below the heatmap\n",
    "                x=x_positions[i - 1],  # Align it under each respective heatmap with spacing\n",
    "                xanchor=\"center\",\n",
    "                orientation=\"v\"  # Make the colorbar vertical\n",
    "            ),\n",
    "            text=matrix.values.round(2),\n",
    "            texttemplate=\"%{text}\",\n",
    "            showscale=True,\n",
    "            hoverinfo=\"skip\"\n",
    "        ),\n",
    "        row=1, col=i\n",
    "    )\n",
    "\n",
    "# Update layout\n",
    "fig.update_layout(\n",
    "    title=\"Correlation, Covariance (mu), and Beta Matrices\",\n",
    "    height=750,  # Increased height to accommodate vertical legends\n",
    "    showlegend=False,\n",
    "    title_x=0.5\n",
    ")\n",
    "\n",
    "# Show the interactive heatmap\n",
    "fig.show()\n"
   ]
  },
  {
   "cell_type": "code",
   "execution_count": null,
   "id": "a7d950c6-c48b-49a4-a6e6-1194e0a8d91a",
   "metadata": {},
   "outputs": [],
   "source": []
  },
  {
   "cell_type": "code",
   "execution_count": null,
   "id": "47c2dc4c-76a2-40b1-8065-df11e3491e4c",
   "metadata": {},
   "outputs": [],
   "source": []
  },
  {
   "cell_type": "code",
   "execution_count": null,
   "id": "49983d2f-a951-4e1e-8525-16433b1aedbe",
   "metadata": {},
   "outputs": [],
   "source": []
  }
 ],
 "metadata": {
  "kernelspec": {
   "display_name": "Python [conda env:dsi] *",
   "language": "python",
   "name": "conda-env-dsi-py"
  },
  "language_info": {
   "codemirror_mode": {
    "name": "ipython",
    "version": 3
   },
   "file_extension": ".py",
   "mimetype": "text/x-python",
   "name": "python",
   "nbconvert_exporter": "python",
   "pygments_lexer": "ipython3",
   "version": "3.8.16"
  }
 },
 "nbformat": 4,
 "nbformat_minor": 5
}
